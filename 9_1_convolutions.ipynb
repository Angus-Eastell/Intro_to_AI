{
  "nbformat": 4,
  "nbformat_minor": 0,
  "metadata": {
    "colab": {
      "provenance": [],
      "include_colab_link": true
    },
    "kernelspec": {
      "name": "python3",
      "display_name": "Python 3"
    },
    "language_info": {
      "name": "python"
    }
  },
  "cells": [
    {
      "cell_type": "markdown",
      "metadata": {
        "id": "view-in-github",
        "colab_type": "text"
      },
      "source": [
        "<a href=\"https://colab.research.google.com/github/Angus-Eastell/Intro_to_AI/blob/main/9_1_convolutions.ipynb\" target=\"_parent\"><img src=\"https://colab.research.google.com/assets/colab-badge.svg\" alt=\"Open In Colab\"/></a>"
      ]
    },
    {
      "cell_type": "markdown",
      "source": [
        "# Convolutions in PyTorch\n",
        "\n",
        "One of the key things to understand with convolutional networks is what size you get out with particular kernel-size, strides and padding.\n",
        "\n",
        "This notebook will challenge you to predict the sizes of tensors after various convolutional / pooling layers, and to design layers with particular output sizes.\n",
        "\n",
        "As a reference, you can use the lecture notes, and also the PyTorch docs:\n",
        "* [Conv2d](https://pytorch.org/docs/stable/generated/torch.nn.Conv2d.html)\n",
        "* [MaxPool2d](https://pytorch.org/docs/stable/generated/torch.nn.MaxPool2d.html#maxpool2d)\n",
        "* [AvgPool2d](https://pytorch.org/docs/stable/generated/torch.nn.AvgPool2d.html#avgpool2d)"
      ],
      "metadata": {
        "id": "XIxXqCQK6uZ6"
      }
    },
    {
      "cell_type": "markdown",
      "source": [
        "First, lets define an input tensor, which has one channel, and has w"
      ],
      "metadata": {
        "id": "ZXEnooNk7RFM"
      }
    },
    {
      "cell_type": "code",
      "execution_count": 1,
      "metadata": {
        "colab": {
          "base_uri": "https://localhost:8080/"
        },
        "id": "1KA2iuhm6jai",
        "outputId": "65a76cf2-776b-45a9-c7ce-500239c3cb46"
      },
      "outputs": [
        {
          "output_type": "execute_result",
          "data": {
            "text/plain": [
              "torch.Size([1, 1, 7, 5])"
            ]
          },
          "metadata": {},
          "execution_count": 1
        }
      ],
      "source": [
        "import torch as t\n",
        "import torch.nn as nn\n",
        "\n",
        "N = 1 #batch size\n",
        "C = 1 #channels\n",
        "H = 5 #height\n",
        "W = 7 #width\n",
        "\n",
        "x = t.randn(N, C, W, H)\n",
        "x.shape"
      ]
    },
    {
      "cell_type": "markdown",
      "source": [
        "#### Q1\n",
        "\n",
        "First, lets consider a \"default\" convolution, with `in_channels=1` and `out_channels=1` and `kernel_size=3`.  Notice that I haven't explicitly set the stride and padding.  Looking at the [Conv2d](https://pytorch.org/docs/stable/generated/torch.nn.Conv2d.html) docs, the default has `padding=0`, `stride=1`."
      ],
      "metadata": {
        "id": "IaKbNffk7wz9"
      }
    },
    {
      "cell_type": "code",
      "source": [
        "conv2d = nn.Conv2d(in_channels=1, out_channels=1, kernel_size=3)\n",
        "# What is:\n",
        "conv2d(x).shape\n",
        "# try to answer before evaluating the code!\n",
        "# if you're not sure, try drawing a picture like the ones in the notes!"
      ],
      "metadata": {
        "id": "wYoZY6ud8Pjh",
        "outputId": "16ff40d1-15ef-4c1f-fff3-d0ae46797d15",
        "colab": {
          "base_uri": "https://localhost:8080/"
        }
      },
      "execution_count": 2,
      "outputs": [
        {
          "output_type": "execute_result",
          "data": {
            "text/plain": [
              "torch.Size([1, 1, 5, 3])"
            ]
          },
          "metadata": {},
          "execution_count": 2
        }
      ]
    },
    {
      "cell_type": "markdown",
      "source": [
        "\n",
        "#### Q2\n",
        "\n",
        "Notice that in the previous question, the output was smaller than the input!\n",
        "\n",
        "Write out a convolutional layer with padding that gives an output that's the same size as the input.\n",
        "\n",
        "Again, if you're not sure, try drawing a picture!"
      ],
      "metadata": {
        "id": "8ORwRTqw9L89"
      }
    },
    {
      "cell_type": "code",
      "source": [
        "#Replace ???? with the right amount of padding\n",
        "conv2d = nn.Conv2d(in_channels=1, out_channels=1, kernel_size=3, padding=1)\n",
        "conv2d(x).shape"
      ],
      "metadata": {
        "id": "SgJDqOYP99Ms",
        "outputId": "4592efb9-206a-48bf-f8ac-776f8bce901a",
        "colab": {
          "base_uri": "https://localhost:8080/"
        }
      },
      "execution_count": 4,
      "outputs": [
        {
          "output_type": "execute_result",
          "data": {
            "text/plain": [
              "torch.Size([1, 1, 7, 5])"
            ]
          },
          "metadata": {},
          "execution_count": 4
        }
      ]
    },
    {
      "cell_type": "code",
      "source": [
        "# @title Answer\n",
        "conv2d = nn.Conv2d(in_channels=1, out_channels=1, kernel_size=3, padding=1)\n",
        "conv2d(x).shape"
      ],
      "metadata": {
        "cellView": "form",
        "id": "-68u6NK182S3"
      },
      "execution_count": null,
      "outputs": []
    },
    {
      "cell_type": "markdown",
      "source": [
        "#### Q3\n",
        "\n",
        "The amount of padding you need depends on the kernel size.  So how much padding do you need with `kernel_size=5`?"
      ],
      "metadata": {
        "id": "xy6Txi4z-Uyg"
      }
    },
    {
      "cell_type": "code",
      "source": [
        "#Replace ???? with the right amount of padding\n",
        "conv2d = nn.Conv2d(in_channels=1, out_channels=1, kernel_size=5, padding=2)\n",
        "conv2d(x).shape"
      ],
      "metadata": {
        "id": "t_vX5lZG9zAp",
        "outputId": "147d15c0-1809-463b-e9a4-deda98503b4d",
        "colab": {
          "base_uri": "https://localhost:8080/"
        }
      },
      "execution_count": 5,
      "outputs": [
        {
          "output_type": "execute_result",
          "data": {
            "text/plain": [
              "torch.Size([1, 1, 7, 5])"
            ]
          },
          "metadata": {},
          "execution_count": 5
        }
      ]
    },
    {
      "cell_type": "code",
      "source": [
        "# @title Answer\n",
        "conv2d = nn.Conv2d(in_channels=1, out_channels=1, kernel_size=5, padding=2)\n",
        "conv2d(x).shape"
      ],
      "metadata": {
        "cellView": "form",
        "id": "YEzLetV3-20t"
      },
      "execution_count": null,
      "outputs": []
    },
    {
      "cell_type": "markdown",
      "source": [
        "#### Q4\n",
        "\n",
        "Now lets think about strides."
      ],
      "metadata": {
        "id": "ct-UnFoo_Hnl"
      }
    },
    {
      "cell_type": "code",
      "source": [
        "conv2d = nn.Conv2d(in_channels=1, out_channels=1, stride=2, kernel_size=3)\n",
        "# What is:\n",
        "conv2d(x).shape\n",
        "# try to answer before evaluating the code!"
      ],
      "metadata": {
        "id": "5feJmDbJ-45I",
        "outputId": "ea5e3ab6-de14-4fe2-c69b-edff0db65637",
        "colab": {
          "base_uri": "https://localhost:8080/"
        }
      },
      "execution_count": 6,
      "outputs": [
        {
          "output_type": "execute_result",
          "data": {
            "text/plain": [
              "torch.Size([1, 1, 3, 2])"
            ]
          },
          "metadata": {},
          "execution_count": 6
        }
      ]
    },
    {
      "cell_type": "code",
      "source": [
        "conv2d = nn.Conv2d(in_channels=1, out_channels=1, stride=2, kernel_size=3, padding=1)\n",
        "# What is:\n",
        "conv2d(x).shape\n",
        "# try to answer before evaluating the code!"
      ],
      "metadata": {
        "id": "F_oURc62_i02",
        "outputId": "daaac3ce-ae85-43b0-dc4f-d6085de2cf1c",
        "colab": {
          "base_uri": "https://localhost:8080/"
        }
      },
      "execution_count": 7,
      "outputs": [
        {
          "output_type": "execute_result",
          "data": {
            "text/plain": [
              "torch.Size([1, 1, 4, 3])"
            ]
          },
          "metadata": {},
          "execution_count": 7
        }
      ]
    },
    {
      "cell_type": "markdown",
      "source": [
        "#### Q5\n",
        "\n",
        "`stride`, `padding` and `kernel_size` should work the same way for pooling layers (specifically `nn.AvgPool2d` and `nn.MaxPool2d`).\n",
        "\n",
        "Here, I confirm that in one very simple setting:"
      ],
      "metadata": {
        "id": "W0UK8Q-CAP5k"
      }
    },
    {
      "cell_type": "code",
      "source": [
        "conv2d = nn.Conv2d(in_channels=1, out_channels=1, kernel_size=3, stride=2, padding=0)\n",
        "pool = nn.AvgPool2d(kernel_size=3, stride=2, padding=0)\n",
        "\n",
        "print(conv2d(x).shape)\n",
        "print(pool(x).shape)"
      ],
      "metadata": {
        "colab": {
          "base_uri": "https://localhost:8080/"
        },
        "id": "PvA-1lsm_k8H",
        "outputId": "1ca953d3-760f-4631-efc6-fc7958a42b7a"
      },
      "execution_count": null,
      "outputs": [
        {
          "output_type": "stream",
          "name": "stdout",
          "text": [
            "torch.Size([1, 1, 3, 2])\n",
            "torch.Size([1, 1, 3, 2])\n"
          ]
        }
      ]
    },
    {
      "cell_type": "markdown",
      "source": [
        "Write more examples, to show that `Conv2d` and pooling give the same size output for:\n",
        "* `padding=1`\n",
        "* `kernel_size=5`\n",
        "* `stride=1`"
      ],
      "metadata": {
        "id": "W30lQg_zA8sX"
      }
    },
    {
      "cell_type": "code",
      "source": [
        "conv2d = nn.Conv2d(in_channels=1, out_channels=1, kernel_size=5, stride = 1, padding=1)\n",
        "pool = nn.AvgPool2d(kernel_size=5, stride=1, padding=1)\n",
        "\n",
        "print(conv2d(x).shape)\n",
        "print(pool(x).shape)"
      ],
      "metadata": {
        "id": "7BxRTxttA395",
        "outputId": "5b95c1c0-cea6-4616-cab8-cdd272de9e70",
        "colab": {
          "base_uri": "https://localhost:8080/"
        }
      },
      "execution_count": 8,
      "outputs": [
        {
          "output_type": "stream",
          "name": "stdout",
          "text": [
            "torch.Size([1, 1, 5, 3])\n",
            "torch.Size([1, 1, 5, 3])\n"
          ]
        }
      ]
    }
  ]
}