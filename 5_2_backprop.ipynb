{
  "nbformat": 4,
  "nbformat_minor": 0,
  "metadata": {
    "colab": {
      "provenance": [],
      "include_colab_link": true
    },
    "kernelspec": {
      "name": "python3",
      "display_name": "Python 3"
    },
    "language_info": {
      "name": "python"
    }
  },
  "cells": [
    {
      "cell_type": "markdown",
      "metadata": {
        "id": "view-in-github",
        "colab_type": "text"
      },
      "source": [
        "<a href=\"https://colab.research.google.com/github/Angus-Eastell/Intro_to_AI/blob/main/5_2_backprop.ipynb\" target=\"_parent\"><img src=\"https://colab.research.google.com/assets/colab-badge.svg\" alt=\"Open In Colab\"/></a>"
      ]
    },
    {
      "cell_type": "markdown",
      "source": [
        "# Backprop [non-examinable]\n",
        "\n",
        "**This is \"formally\" non-examinable, but should be super-useful in reinforcing the examinable material in the notes!**\n",
        "\n",
        "In the notes, we saw the theory of the backprop algorithm.  Now, I'm going to show you how to implement backprop.  There are three key players:\n",
        "* MyLeafTensor: stores tensors and their gradients (e.g. data and parameters)\n",
        "* MyFuncTensor:\n",
        "  - stores the result of applying functions to `MyLeafTensor`s and other `MyFuncTensor`s.  For instance, all the intermediate layer activations are `MyFuncTensor`s.  \n",
        "  - stores the compute graph by keeping a record of how the tensor is produced (both the function called and the arguments used).\n",
        "  - Includes the logic for recursing backward through the compute graph in backprop.\n",
        "* Functions (`Add`, `Mul`, `SqErr`, `Linear`, `ReLU`).  These store the forward and backward functions for each operation."
      ],
      "metadata": {
        "id": "RnufrYuCX_OF"
      }
    },
    {
      "cell_type": "markdown",
      "source": [
        "#### MyLeafTensor\n",
        "\n",
        "This is a tensor that contains information like data or parameters (i.e. that isn't the result of applying a function to other tensors).\n",
        "\n",
        "Note that it contains a `.grad` field which accumulates the gradient, and that `.backward(self, delta)` just adds the backpropagating derivative, `delta` to the accumulated gradient."
      ],
      "metadata": {
        "id": "-aLQ7wcta2pp"
      }
    },
    {
      "cell_type": "code",
      "source": [
        "import numpy as np\n",
        "\n",
        "class MyLeafTensor:\n",
        "    \"\"\"\n",
        "    This is a pretty simple class.  Its just a \"wrapper\" for a value: either\n",
        "    a Python number or Numpy array.\n",
        "\n",
        "    The only interesting addition is that it also has a .grad field, which stores\n",
        "    the backpropagating derivatives.  Specifically, any time we get backpropagating\n",
        "    derivatives in backward, it increments self.grad with them.\n",
        "    \"\"\"\n",
        "    def __init__(self, value):\n",
        "        self.value = value\n",
        "        self.grad = np.zeros_like(value)\n",
        "\n",
        "    def backward(self, delta):\n",
        "        self.grad = self.grad + delta\n",
        "\n",
        "    def zero_grad(self):\n",
        "        self.grad = np.zeros_like(self.value)\n",
        "\n",
        "    #Pretty-printing; ignore this as it is Python arcana\n",
        "    def __str__(self):\n",
        "        return f\"MyLeafTensor({self.value})\"\n",
        "    __repr__ = __str__"
      ],
      "metadata": {
        "id": "1T3ZHqGzavBR"
      },
      "execution_count": 20,
      "outputs": []
    },
    {
      "cell_type": "markdown",
      "source": [
        "#### MyFuncTensor:\n",
        "\n",
        "This stores the the result of applying functions to `MyLeafTensor`s and other `MyFuncTensor`s.  In `.__init__`:\n",
        "* `f` is the function used (it'll be an object from one of the classes we define below, like `Add` or `Mul`).\n",
        "* We store the arguments to the function both as tensors (`MyLeafTensor` or `MyFuncTensor`) and as numpy arrays.  Storing as numpy arrays is useful to actually compute values (e.g. `Add.forward` takes numpy arrays as inputs).  But you need arguments as `MyFuncTensor` / `MyLeafTensor`s to retain the compute graph.  Specifically, some of the arguments to this `MyFuncTensor` are themselves `MyFuncTensor`s which also record the function + arguments used to create them.  Overall, the graph of `MyFuncTensor`s record the full process by which the final result (usually the loss) was produced.\n",
        "* Includes the \"logic\" for the backward pass in `MyFuncTensor.backward(delta)`.  Here, `delta=`$\\frac{d\\mathcal{L}}{d\\text{ outputs}}$.  Thus, `MyFuncTensor.backward` starts with `delta=`$\\frac{d\\mathcal{L}}{d\\text{ outputs}}$, then uses e.g. `Add.backward(delta)` or `Mul.backward(delta)` on the stored function to compute $\\frac{d\\mathcal{L}}{d\\text{ inputs}}$.  Critically, the inputs to this function are themselves the outputs from other functions.  Thus, the $\\frac{d\\mathcal{L}}{d\\text{ inputs}}$ are also the $\\frac{d\\mathcal{L}}{d\\text{ outputs}}$ for other functions.  We therefore pass these derivatives into the `.backward(...)` on these other functions.  Recursing this process moves backward through the compute graph, hence \"backprop\"."
      ],
      "metadata": {
        "id": "TBFMybpibSI9"
      }
    },
    {
      "cell_type": "code",
      "source": [
        "class MyFuncTensor:\n",
        "    \"\"\"\n",
        "    MyFuncTensor is more interesting.  This represents a Tensor that is created\n",
        "    by applying a Function to other MyTensor's.\n",
        "\n",
        "    This class records the 'compute graph' by remembering the function and\n",
        "    arguments used to create it.  That allows us to go backwards in backprop\n",
        "    \"\"\"\n",
        "    def __init__(self, f, args):\n",
        "        #Check the function is one of our special functions\n",
        "        assert isinstance(f, (Add, Mul, Linear, ReLU, SqErr))\n",
        "        #Check the arguments are all MyTensors\n",
        "        assert all(isinstance(arg, (MyLeafTensor, MyFuncTensor)) for arg in args)\n",
        "\n",
        "        #Record the function and arguments (as MyTensors)\n",
        "        self.f = f\n",
        "        self.mytensor_args = args\n",
        "        #Get the value (e.g. as a numpy array) for each of the arguments.\n",
        "        self.np_args = [arg.value for arg in args]\n",
        "        #Compute the result by passing e.g. numpy arrays, _not_ MyTensors into f.forward.\n",
        "        #the * \"splats\" arguments: f(*[1,2]) == f(1,2)\n",
        "        self.value = f.forward(*self.np_args)\n",
        "\n",
        "    def backward(self, delta):\n",
        "        \"\"\"\n",
        "        This is where the backprop magic happens.\n",
        "\n",
        "        Takes the backpropagating derivative for the output (delta) as an argument.\n",
        "        Uses f.backward to compute the backpropagating derivative for the input arguments.\n",
        "        Calls arg.backward on each of those arguments, with the computed derivative.\n",
        "        \"\"\"\n",
        "        assert not isinstance(delta, tuple)\n",
        "        #Compute the derivatives for each argument using f.backward,\n",
        "        #exactly as in the pdf.  Note we're splatting again: f(*[1,2]) == f(1,2)\n",
        "        #the returned arg_deltas are all e.g. Numpy arrays.\n",
        "        arg_deltas = self.f.backward(delta, *self.np_args)\n",
        "\n",
        "        #Check we have the same number of arguments as deltas.\n",
        "        assert len(self.mytensor_args) == len(arg_deltas)\n",
        "\n",
        "        #Now we have to make sure that these backpropagating derivatives are\n",
        "        #given to the mytensor_arg.backward method on each argument tensor.\n",
        "        for i in range(len(arg_deltas)):\n",
        "            self.mytensor_args[i].backward(arg_deltas[i])\n",
        "\n",
        "\n",
        "    #Pretty-printing; ignore this as it is Python arcana\n",
        "    def __str__(self):\n",
        "        return f\"MyFuncTensor({self.f.__class__.__name__}, {self.mytensor_args})\"\n",
        "    __repr__ = __str__"
      ],
      "metadata": {
        "id": "ymW5FALEayRj"
      },
      "execution_count": 21,
      "outputs": []
    },
    {
      "cell_type": "markdown",
      "source": [
        "#### Functions (`Add`, `Mul`, `SqErr`, `Linear`, `ReLU`).\n",
        "\n",
        "Here, we write each function as a class, so that we can bind together the forward and backward passes for each function.  Note that the backward pass here is only \"local\" (it only applies to one operation).  The global backward recursion is handled by `MyFuncTensor`.\n",
        "\n",
        "Note that e.g. `Add.forward` and `Add.backward` take Numpy arrays as inputs, _not_ `MyLeafTensor`s or `MyFuncTensor`s, and they're only called internally, by stuff inside `MyFuncTensor`.\n",
        "\n",
        "To actually add two `MyFuncTensor`s or `MyLeafTensor`s, we therefore need a little method (e.g. `add`).  This constructs a `MyFuncTensor` representing the application of addition, and takes `MyFuncTensor`s or `MyLeafTensor`s as inputs."
      ],
      "metadata": {
        "id": "5gPozxO4dpHg"
      }
    },
    {
      "cell_type": "code",
      "execution_count": 22,
      "metadata": {
        "id": "eDokruukzfkh"
      },
      "outputs": [],
      "source": [
        "class Add:\n",
        "    \"\"\"\n",
        "    y = a + b\n",
        "    Will only work if a and b are same sized.\n",
        "    \"\"\"\n",
        "    def forward(self, a, b):\n",
        "        return a+b\n",
        "\n",
        "    def backward(self, dy, a, b):\n",
        "        da = dy\n",
        "        db = dy\n",
        "        return (da, db)\n",
        "#We define simple functions like `add` which construct a MyFuncTensor from\n",
        "#the arguments and function.\n",
        "def add(a, b):\n",
        "    return MyFuncTensor(Add(), (a, b))\n",
        "\n",
        "class Mul:\n",
        "    \"\"\"\n",
        "    y = a * b\n",
        "    Will only work if a and b are same sized.\n",
        "    \"\"\"\n",
        "    def forward(self, a, b):\n",
        "        return a * b\n",
        "\n",
        "    def backward(self, dy, a, b):\n",
        "        da = dy*b\n",
        "        db = dy*a\n",
        "        return (da, db)\n",
        "def mul(a, b):\n",
        "    return MyFuncTensor(Mul(), (a, b))\n",
        "\n",
        "#We can also implement NNs if we define a couple more functions (we'll play with\n",
        "#these later)\n",
        "\n",
        "class Linear:\n",
        "    def forward(self, h, W, b):\n",
        "        return h @ W + b\n",
        "\n",
        "    def backward(self, da, h, W, b):\n",
        "        dh = (da @ W.T)\n",
        "        dW = h.T @ da\n",
        "        db = da.sum(0)\n",
        "        return (dh, dW, db)\n",
        "def linear(h, W, b):\n",
        "    return MyFuncTensor(Linear(), (h, W, b))\n",
        "\n",
        "class ReLU:\n",
        "    def forward(self, a):\n",
        "        return a*(a>0)\n",
        "\n",
        "    def backward(self, dh, a):\n",
        "        da = dh*(a>0)\n",
        "        return (da,)\n",
        "def relu(a):\n",
        "    return MyFuncTensor(ReLU(), (a,))\n",
        "\n",
        "class SqErr:\n",
        "    def forward(self, y, f):\n",
        "        return ((y-f)**2).sum()\n",
        "\n",
        "    def backward(self, dL, y, f):\n",
        "        dy = dL * (y-f)\n",
        "        df = dL * (f-y)\n",
        "        return (dy, df)\n",
        "def sqerr(f, y):\n",
        "    return MyFuncTensor(SqErr(), (f, y))"
      ]
    },
    {
      "cell_type": "markdown",
      "source": [
        "Consider a simple example:\n",
        "\\begin{align}\n",
        "a &= 2\\\\\n",
        "b &= 3\\\\\n",
        "c &= 4\\\\\n",
        "L &= c + (a*b)\n",
        "\\end{align}\n",
        "We want to compute the derivatives,\n",
        "\\begin{align}\n",
        "\\frac{dL}{da} &= b = 3\\\\\n",
        "\\frac{dL}{db} &= a = 2\\\\\n",
        "\\frac{dL}{dc} &= 1\\\\\n",
        "\\end{align}\n",
        "Writing this in code:"
      ],
      "metadata": {
        "id": "3Fx3c7rg1NyQ"
      }
    },
    {
      "cell_type": "code",
      "source": [
        "a = MyLeafTensor(2.)\n",
        "b = MyLeafTensor(3.)\n",
        "c = MyLeafTensor(4.)\n",
        "\n",
        "L = add(c, mul(a, b))"
      ],
      "metadata": {
        "id": "MeyTb7kN76ae"
      },
      "execution_count": 23,
      "outputs": []
    },
    {
      "cell_type": "code",
      "source": [
        "#Now, we can explicitly look around in the \"compute graph\".  Specifically, we\n",
        "#can see what function was used to make L:\n",
        "L.f"
      ],
      "metadata": {
        "colab": {
          "base_uri": "https://localhost:8080/"
        },
        "id": "T1Dgdp-d1gCO",
        "outputId": "66fe5df9-db13-4d06-88de-90e8cab9243f"
      },
      "execution_count": 24,
      "outputs": [
        {
          "output_type": "execute_result",
          "data": {
            "text/plain": [
              "<__main__.Add at 0x7f7e78229410>"
            ]
          },
          "metadata": {},
          "execution_count": 24
        }
      ]
    },
    {
      "cell_type": "code",
      "source": [
        "#And we can also look at the arguments.\n",
        "print(L.mytensor_args[0])\n",
        "print(L.mytensor_args[1])"
      ],
      "metadata": {
        "colab": {
          "base_uri": "https://localhost:8080/"
        },
        "id": "vUSSDAMD1tKm",
        "outputId": "d99e1e8d-7a43-4527-80bb-08fc51d1f2f6"
      },
      "execution_count": 25,
      "outputs": [
        {
          "output_type": "stream",
          "name": "stdout",
          "text": [
            "MyLeafTensor(4.0)\n",
            "MyFuncTensor(Mul, (MyLeafTensor(2.0), MyLeafTensor(3.0)))\n"
          ]
        }
      ]
    },
    {
      "cell_type": "code",
      "source": [
        "#We go deeper through the \"graph\", by poking around inside L.mytensor_args[1]\n",
        "print(L.mytensor_args[1].f)\n",
        "print(L.mytensor_args[1].mytensor_args[0])\n",
        "print(L.mytensor_args[1].mytensor_args[1])"
      ],
      "metadata": {
        "colab": {
          "base_uri": "https://localhost:8080/"
        },
        "id": "hDP5WOGe2acX",
        "outputId": "91797c21-2bc4-4b32-b4dd-d45180b1616e"
      },
      "execution_count": 26,
      "outputs": [
        {
          "output_type": "stream",
          "name": "stdout",
          "text": [
            "<__main__.Mul object at 0x7f7e78245bd0>\n",
            "MyLeafTensor(2.0)\n",
            "MyLeafTensor(3.0)\n"
          ]
        }
      ]
    },
    {
      "cell_type": "code",
      "source": [
        "#Initially, all the gradients are zero,\n",
        "print(a.grad)\n",
        "print(b.grad)\n",
        "print(c.grad)"
      ],
      "metadata": {
        "colab": {
          "base_uri": "https://localhost:8080/"
        },
        "id": "lReSnO7A9Mls",
        "outputId": "df36b440-8cba-4010-8d70-2c6f6f662e85"
      },
      "execution_count": 27,
      "outputs": [
        {
          "output_type": "stream",
          "name": "stdout",
          "text": [
            "0.0\n",
            "0.0\n",
            "0.0\n"
          ]
        }
      ]
    },
    {
      "cell_type": "code",
      "source": [
        "#Call L.backward just like in PyTorch.  Note that we provide 1. as the\n",
        "#\"backpropagating derivative\", as dL/dL = 1 (see pdf)\n",
        "L.backward(1.)"
      ],
      "metadata": {
        "id": "tCKpaicE9YyS"
      },
      "execution_count": 28,
      "outputs": []
    },
    {
      "cell_type": "code",
      "source": [
        "#Which gives the right answer!!!\n",
        "print(a.grad)\n",
        "print(b.grad)\n",
        "print(c.grad)"
      ],
      "metadata": {
        "colab": {
          "base_uri": "https://localhost:8080/"
        },
        "id": "BKeE4WXX9c74",
        "outputId": "62847120-0464-440b-96c1-5af0ced04dd9"
      },
      "execution_count": 29,
      "outputs": [
        {
          "output_type": "stream",
          "name": "stdout",
          "text": [
            "3.0\n",
            "2.0\n",
            "1.0\n"
          ]
        }
      ]
    },
    {
      "cell_type": "markdown",
      "source": [
        "## Neural networks with our backprop\n",
        "\n",
        "We can also code a full NN in our setup.  Note that most of this code is lightly adapted from Notebook 4.1 (on NNs in PyTorch but without `torch.nn`), but we apply the network to regression rather than classification, so we can use the squared-error, as we have already implemented that.\n"
      ],
      "metadata": {
        "id": "BC6JMO1yGn3x"
      }
    },
    {
      "cell_type": "code",
      "source": [
        "import matplotlib.pyplot as plt\n",
        "\n",
        "N = 300\n",
        "X = np.random.randn(N, 1)\n",
        "y = np.sin(X) + 0.1*np.random.randn(N, 1)\n",
        "\n",
        "plt.scatter(x=X, y=y)\n",
        "plt.xlabel('$x$')\n",
        "plt.ylabel('$y$')\n",
        "\n",
        "X_mytensor = MyLeafTensor(X)\n",
        "y_mytensor = MyLeafTensor(y)"
      ],
      "metadata": {
        "colab": {
          "base_uri": "https://localhost:8080/",
          "height": 449
        },
        "id": "pVg5zLAyHujF",
        "outputId": "9adb2740-e3c2-4c73-81f5-e1e0117b2f89"
      },
      "execution_count": 30,
      "outputs": [
        {
          "output_type": "display_data",
          "data": {
            "text/plain": [
              "<Figure size 640x480 with 1 Axes>"
            ],
            "image/png": "[encoded data removed]"
          },
          "metadata": {}
        }
      ]
    },
    {
      "cell_type": "code",
      "source": [
        "input_features = 1\n",
        "hidden_features = 100\n",
        "output_features = 1\n",
        "\n",
        "#We do a 2 layer network, as in Notebook 4.1\n",
        "#Note that all the Parameters are MyLeafTensor's (mirroring how you need to use\n",
        "#PyTorch tensors in PyTorch).\n",
        "bias0 = MyLeafTensor(np.random.randn(hidden_features))\n",
        "weights0 = MyLeafTensor(np.random.randn(input_features, hidden_features))\n",
        "bias1 = MyLeafTensor(np.random.randn(output_features))\n",
        "weights1 = MyLeafTensor(np.random.randn(hidden_features, output_features))\n",
        "\n",
        "def net(input):\n",
        "    \"\"\"\n",
        "    Applies our two-layer relu network to the input.\n",
        "    \"\"\"\n",
        "    output_layer0 = relu(linear(input, weights0, bias0))\n",
        "    output_layer1 =      linear(output_layer0, weights1, bias1)\n",
        "    return output_layer1\n"
      ],
      "metadata": {
        "id": "EzUz_DiYG4ol"
      },
      "execution_count": 31,
      "outputs": []
    },
    {
      "cell_type": "code",
      "source": [
        "#The training loop\n",
        "learning_rate = 0.0001\n",
        "for i in range(100):\n",
        "    L = sqerr(y_mytensor, net(X_mytensor))\n",
        "    if 0 == i % 10: #Print every 10th iteration\n",
        "        print(L.value)\n",
        "    L.backward(1)\n",
        "    bias0.value    += -learning_rate*bias0.grad\n",
        "    weights0.value += -learning_rate*weights0.grad\n",
        "    bias1.value    += -learning_rate*bias1.grad\n",
        "    weights1.value += -learning_rate*weights1.grad\n",
        "\n",
        "    bias0.zero_grad()\n",
        "    weights0.zero_grad()\n",
        "    bias1.zero_grad()\n",
        "    weights1.zero_grad()\n"
      ],
      "metadata": {
        "id": "f4yfM38S-D0j",
        "colab": {
          "base_uri": "https://localhost:8080/"
        },
        "outputId": "c69aa05b-a6ef-47eb-d177-f845d3f4977e"
      },
      "execution_count": 32,
      "outputs": [
        {
          "output_type": "stream",
          "name": "stdout",
          "text": [
            "37786.58594796769\n",
            "1258.3640153807723\n",
            "196.83901276978378\n",
            "65.31666942608278\n",
            "42.483506535503096\n",
            "36.54396244805559\n",
            "33.704555372927516\n",
            "31.690955169504463\n",
            "30.01469909170187\n",
            "28.533936182684865\n"
          ]
        }
      ]
    },
    {
      "cell_type": "code",
      "source": [
        "N = 300\n",
        "\n",
        "xs = MyLeafTensor(np.linspace(-4, 4, 100)[:, None])\n",
        "pred = net(xs)\n",
        "\n",
        "plt.scatter(x=X, y=y, label='Data')\n",
        "plt.plot(xs.value, pred.value, c='k', label='Fitted line')\n",
        "plt.xlabel('$x$')\n",
        "plt.ylabel('$y$')\n",
        "plt.legend()"
      ],
      "metadata": {
        "colab": {
          "base_uri": "https://localhost:8080/",
          "height": 466
        },
        "id": "CZezmwFIPKY3",
        "outputId": "1a3650f0-5f43-4a3e-a180-1b104d5ea317"
      },
      "execution_count": 33,
      "outputs": [
        {
          "output_type": "execute_result",
          "data": {
            "text/plain": [
              "<matplotlib.legend.Legend at 0x7f7e6aed4890>"
            ]
          },
          "metadata": {},
          "execution_count": 33
        },
        {
          "output_type": "display_data",
          "data": {
            "text/plain": [
              "<Figure size 640x480 with 1 Axes>"
            ],
            "image/png": "[encoded data removed]"
          },
          "metadata": {}
        }
      ]
    },
    {
      "cell_type": "code",
      "source": [],
      "metadata": {
        "id": "ks1JALObPTo6"
      },
      "execution_count": null,
      "outputs": []
    }
  ]
}