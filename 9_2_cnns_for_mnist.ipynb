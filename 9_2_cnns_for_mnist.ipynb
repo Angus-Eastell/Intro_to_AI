{
  "nbformat": 4,
  "nbformat_minor": 0,
  "metadata": {
    "colab": {
      "provenance": [],
      "gpuType": "T4",
      "include_colab_link": true
    },
    "kernelspec": {
      "name": "python3",
      "display_name": "Python 3"
    },
    "language_info": {
      "name": "python"
    },
    "accelerator": "GPU"
  },
  "cells": [
    {
      "cell_type": "markdown",
      "metadata": {
        "id": "view-in-github",
        "colab_type": "text"
      },
      "source": [
        "<a href=\"https://colab.research.google.com/github/Angus-Eastell/Intro_to_AI/blob/main/9_2_cnns_for_mnist.ipynb\" target=\"_parent\"><img src=\"https://colab.research.google.com/assets/colab-badge.svg\" alt=\"Open In Colab\"/></a>"
      ]
    },
    {
      "cell_type": "markdown",
      "source": [
        "# Convolutional neural networks for MNIST\n",
        "\n",
        "Below, I've coded up an utterly dreadful CNN for MNIST.  But its really, really bad (45% accuracy after 5 epochs).\n",
        "\n",
        "You should try to improve the model!  Here are some key suggestions:\n",
        "* Try a deeper network with more convolutional layers.\n",
        "* Try some padding.\n",
        "* Try some layers with `stride=2`.\n",
        "* Try some pooling layers.\n",
        "* Try changing the optimizer to Adam.\n",
        "* Try tuning the learning rate.\n",
        "* Try taking inspiration from the LeNet-5 architecture in the notes.\n",
        "\n",
        "Other points:\n",
        "* I'd advise keeping the final `nn.AdaptiveAvgPool2d(1)` layer.\n",
        "* If you have too deep a model, with too many layers (especially layers with `stride=2`, or pooling layers), then you might find the model failing.\n",
        "\n",
        "You might well want to check out the docs for:\n",
        "* [Conv2d](https://pytorch.org/docs/stable/generated/torch.nn.Conv2d.html)\n",
        "* [MaxPool2d](https://pytorch.org/docs/stable/generated/torch.nn.MaxPool2d.html#maxpool2d)\n",
        "* [AvgPool2d](https://pytorch.org/docs/stable/generated/torch.nn.AvgPool2d.html#avgpool2d)\n",
        "\n",
        "The notebook will be faster on GPU, but its still perfectly fine on CPU.  Remember, to switch to GPU, go to \"Runtime\" -> \"Change Runtime Type\"."
      ],
      "metadata": {
        "id": "Ujbbo2lOAiUy"
      }
    },
    {
      "cell_type": "code",
      "execution_count": null,
      "metadata": {
        "id": "_-CQK29k_EzX"
      },
      "outputs": [],
      "source": [
        "import torch\n",
        "import torch.nn as nn\n",
        "import torchvision\n",
        "import torchvision.transforms as transforms\n",
        "torch.manual_seed(0)\n",
        "\n",
        "# Check whether we have a GPU.  Use it if we do.\n",
        "device = torch.device('cuda' if torch.cuda.is_available() else 'cpu')\n",
        "\n",
        "\n",
        "\n",
        "# MNIST train and test datasets.  I'm not going to talk about these in this course.\n",
        "# you should just be able to follow \"recipes\" online.\n",
        "train_dataset = torchvision.datasets.MNIST(root='data',\n",
        "                                           train=True,\n",
        "                                           transform=transforms.ToTensor(),\n",
        "                                           download=True)\n",
        "\n",
        "test_dataset = torchvision.datasets.MNIST(root='data',\n",
        "                                          train=False,\n",
        "                                          transform=transforms.ToTensor())\n",
        "\n",
        "# MNIST train and test datasets.  I'm not going to talk about these in this course.\n",
        "# However, note that I'm using a much bigger batch size at test-time.  That's\n",
        "# because at training time, we have to backprop, so we have to save all the\n",
        "# intermediate variables, which takes alot of memory.  We don't have to do that\n",
        "# at test-time.\n",
        "train_loader = torch.utils.data.DataLoader(dataset=train_dataset,\n",
        "                                           batch_size=100,\n",
        "                                           shuffle=True)\n",
        "\n",
        "test_loader = torch.utils.data.DataLoader(dataset=test_dataset,\n",
        "                                          batch_size=1000,\n",
        "                                          shuffle=False)\n",
        "\n",
        "\n"
      ]
    },
    {
      "cell_type": "code",
      "source": [
        "############################################\n",
        "#### Tweak the network architecture !!! ####\n",
        "############################################\n",
        "input_size = 784\n",
        "hidden_size = 500\n",
        "num_classes = 10\n",
        "\n",
        "model = nn.Sequential(\n",
        "    nn.Conv2d(in_channels=1, out_channels=100, kernel_size=5, padding=2), #Output shape is [N, 100, H, W]\n",
        "    nn.ReLU(), #Output shape is [N, 100, H, W]\n",
        "    nn.BatchNorm2d(100), #batch norm num_features = 100\n",
        "    nn.MaxPool2d(kernel_size=2, stride=2, padding=0),\n",
        "    nn.Conv2d(in_channels=100, out_channels=100, kernel_size=5),  #Output shape is [N, 100, H/2, W/2]\n",
        "    nn.ReLU(),\n",
        "    nn.BatchNorm2d(100),\n",
        "    nn.Conv2d(in_channels=100, out_channels=100, kernel_size=5, stride = 1 , padding = 1),  #Output shape is [N, 100, H/2, W/2]\n",
        "    nn.ReLU(),\n",
        "    nn.MaxPool2d(kernel_size=2, stride=2),\n",
        "    nn.Conv2d(in_channels=100, out_channels=10, kernel_size=3, padding=1),#Output shape is [N,  10, H/2, W/2]\n",
        "    nn.BatchNorm2d(10), # num_features = 10\n",
        "    nn.AdaptiveAvgPool2d(1)                                                #output shape is [N,  10, 1, 1]; does global average pooling\n",
        ").to(device)\n",
        "\n",
        "#################################\n",
        "#### Tweak the optimizer !!! ####\n",
        "#################################\n",
        "opt = torch.optim.Adam(model.parameters(), lr=0.001)\n",
        "\n",
        "def train():\n",
        "    # Does one training epoch (i.e. one pass over the data.)\n",
        "    for images, labels in train_loader:\n",
        "        # Move tensors to the configured device, and convert image to vector.\n",
        "        images = images.to(device)\n",
        "        labels = labels.to(device)\n",
        "\n",
        "        # Forward pass\n",
        "        logits = model(images).squeeze((-1, -2)) #output shape is [N, 10]\n",
        "\n",
        "        # Backpropagation and optimization\n",
        "        loss = nn.functional.cross_entropy(logits, labels)\n",
        "        loss.backward()\n",
        "        opt.step()\n",
        "        opt.zero_grad()\n",
        "\n",
        "def test(epoch):\n",
        "    # Do one pass over the test data.\n",
        "    # In the test phase, don't need to compute gradients (for memory efficiency)\n",
        "    with torch.no_grad():\n",
        "        correct = 0\n",
        "        total = 0\n",
        "        for images, labels in test_loader:\n",
        "            #Convert image pixels to vector\n",
        "            images = images.to(device)\n",
        "            labels = labels.to(device)\n",
        "\n",
        "            # Forward pass\n",
        "            logits = model(images).squeeze((-1, -2))\n",
        "\n",
        "            # Compute total correct so far\n",
        "            predicted = torch.argmax(logits, -1)\n",
        "            correct += (predicted == labels).sum().item()\n",
        "            total += labels.size(0)\n",
        "        print(f'Test accuracy after {epoch+1} epochs: {100 * correct / total} %')\n",
        "\n",
        "\n",
        "# Run training\n",
        "for epoch in range(5):\n",
        "    train()\n",
        "    test(epoch)\n"
      ],
      "metadata": {
        "id": "ez_iI1xefkf_",
        "outputId": "70a6812e-4d97-4c7c-9d71-e12243abcdf3",
        "colab": {
          "base_uri": "https://localhost:8080/"
        }
      },
      "execution_count": null,
      "outputs": [
        {
          "output_type": "stream",
          "name": "stdout",
          "text": [
            "Test accuracy after 1 epochs: 99.34 %\n",
            "Test accuracy after 2 epochs: 99.43 %\n",
            "Test accuracy after 3 epochs: 99.54 %\n",
            "Test accuracy after 4 epochs: 99.5 %\n",
            "Test accuracy after 5 epochs: 99.54 %\n"
          ]
        }
      ]
    }
  ]
}