{
  "nbformat": 4,
  "nbformat_minor": 0,
  "metadata": {
    "colab": {
      "provenance": [],
      "include_colab_link": true
    },
    "kernelspec": {
      "name": "python3",
      "display_name": "Python 3"
    },
    "language_info": {
      "name": "python"
    }
  },
  "cells": [
    {
      "cell_type": "markdown",
      "metadata": {
        "id": "view-in-github",
        "colab_type": "text"
      },
      "source": [
        "<a href=\"https://colab.research.google.com/github/Angus-Eastell/Intro_to_AI/blob/main/10_2_tokenization.ipynb\" target=\"_parent\"><img src=\"https://colab.research.google.com/assets/colab-badge.svg\" alt=\"Open In Colab\"/></a>"
      ]
    },
    {
      "cell_type": "markdown",
      "source": [
        "#Tokenization\n",
        "\n",
        "Consider strings composed of just three letters, `a`, `b` and `c`.  So they look something like:\n",
        "```\n",
        "\"abcca\"\n",
        "```\n"
      ],
      "metadata": {
        "id": "a9m_KAedtYxR"
      }
    },
    {
      "cell_type": "markdown",
      "source": [
        "We want to \"tokenize\" this string, i.e. convert it to a list of integers.\n",
        "\n",
        "We use the following mapping:\n",
        "```\n",
        "\"a\" = 0\n",
        "\"b\" = 1\n",
        "\"c\" = 2\n",
        "```\n",
        "So we want to map `abcca` to `[0,1,2,2,0]`.\n",
        "\n",
        "#### Q1: write a function named `encode` that converts `abcca` to `[0,1,2,2,0]`."
      ],
      "metadata": {
        "id": "Sp1aQNmwtqYE"
      }
    },
    {
      "cell_type": "code",
      "execution_count": 6,
      "metadata": {
        "id": "OcNOkDg5tV-o",
        "outputId": "2b6ed48e-858a-49c3-e967-bf028749e5c0",
        "colab": {
          "base_uri": "https://localhost:8080/"
        }
      },
      "outputs": [
        {
          "output_type": "execute_result",
          "data": {
            "text/plain": [
              "[0, 1, 1, 2, 0]"
            ]
          },
          "metadata": {},
          "execution_count": 6
        }
      ],
      "source": [
        "#Your code here\n",
        "string = \"abbca\"\n",
        "\n",
        "map = {\"a\": 0, \"b\": 1, \"c\": 2}\n",
        "\n",
        "def encode(map, string):\n",
        "\n",
        "  values = [map[value] for value in string]\n",
        "  return values\n",
        "\n",
        "encode(map,string)\n",
        "\n"
      ]
    },
    {
      "cell_type": "code",
      "source": [
        "# @title Answer\n",
        "def encode(string):\n",
        "    #initialize empty list of tokens\n",
        "    tokens = []\n",
        "\n",
        "    #Go through each token\n",
        "    for i in range(len(string)):\n",
        "        #extract the character\n",
        "        character = string[i]\n",
        "\n",
        "        #map the character to an token\n",
        "        if character == \"a\":\n",
        "            token = 0\n",
        "        elif character == \"b\":\n",
        "            token = 1\n",
        "        else:\n",
        "            token = 2\n",
        "\n",
        "        #Append the character to the result\n",
        "        tokens.append(token)\n",
        "    return tokens\n",
        "\n",
        "encode('abcca')"
      ],
      "metadata": {
        "colab": {
          "base_uri": "https://localhost:8080/"
        },
        "cellView": "form",
        "id": "i8P6W7fvyJ7-",
        "outputId": "a4cdc275-db89-499e-ad0c-d1b1a05f8310"
      },
      "execution_count": null,
      "outputs": [
        {
          "output_type": "execute_result",
          "data": {
            "text/plain": [
              "[0, 1, 2, 2, 0]"
            ]
          },
          "metadata": {},
          "execution_count": 9
        }
      ]
    },
    {
      "cell_type": "markdown",
      "source": [
        "We also want to go back: to convert the lists of integers/tokens back to a string.\n",
        "\n",
        "#### Q2: write a function named `decode` that converts `[0,1,2,2,0]` back to `abcca`."
      ],
      "metadata": {
        "id": "ub5EUd0wzl0T"
      }
    },
    {
      "cell_type": "code",
      "source": [
        "tokens = [0,1,2,2,0]\n",
        "map = {0:\"a\", 1:\"b\", 2:\"c\"}\n",
        "\n",
        "def decode(map, token_list):\n",
        "  letters = [map[value] for value in token_list]\n",
        "  string = \"\"\n",
        "  for letter in letters:\n",
        "    string += letter\n",
        "  return string\n",
        "\n",
        "decode(map, tokens)"
      ],
      "metadata": {
        "id": "swVw708kFHTy",
        "outputId": "f45959bf-88ba-4002-d80a-2989246ce8f0",
        "colab": {
          "base_uri": "https://localhost:8080/",
          "height": 35
        }
      },
      "execution_count": 11,
      "outputs": [
        {
          "output_type": "execute_result",
          "data": {
            "text/plain": [
              "'abcca'"
            ],
            "application/vnd.google.colaboratory.intrinsic+json": {
              "type": "string"
            }
          },
          "metadata": {},
          "execution_count": 11
        }
      ]
    },
    {
      "cell_type": "code",
      "source": [
        "# @title Answer\n",
        "def decode(tokens):\n",
        "    #initialize empty string\n",
        "    string = \"\"\n",
        "\n",
        "    #Go through each token\n",
        "    for i in range(len(tokens)):\n",
        "        #extract the character\n",
        "        token = tokens[i]\n",
        "\n",
        "        #map the character to an token\n",
        "        if token == 0:\n",
        "            character = \"a\"\n",
        "        elif token == 1:\n",
        "            character = \"b\"\n",
        "        else:\n",
        "            character = \"c\"\n",
        "\n",
        "        #Append the character to the current string\n",
        "        string  = string + character\n",
        "    return string\n",
        "\n",
        "decode([0,1,2,2,0])"
      ],
      "metadata": {
        "colab": {
          "base_uri": "https://localhost:8080/",
          "height": 35
        },
        "cellView": "form",
        "id": "Ew7eLnVQyLwl",
        "outputId": "f600fc08-a020-49f3-e440-5ff31a0730af"
      },
      "execution_count": 7,
      "outputs": [
        {
          "output_type": "execute_result",
          "data": {
            "text/plain": [
              "'abcca'"
            ],
            "application/vnd.google.colaboratory.intrinsic+json": {
              "type": "string"
            }
          },
          "metadata": {},
          "execution_count": 7
        }
      ]
    },
    {
      "cell_type": "code",
      "source": [],
      "metadata": {
        "id": "2hGBkGu00K3x"
      },
      "execution_count": 7,
      "outputs": []
    }
  ]
}