{
  "nbformat": 4,
  "nbformat_minor": 0,
  "metadata": {
    "colab": {
      "provenance": [],
      "include_colab_link": true
    },
    "kernelspec": {
      "name": "python3",
      "display_name": "Python 3"
    },
    "language_info": {
      "name": "python"
    }
  },
  "cells": [
    {
      "cell_type": "markdown",
      "metadata": {
        "id": "view-in-github",
        "colab_type": "text"
      },
      "source": [
        "<a href=\"https://colab.research.google.com/github/Angus-Eastell/Intro_to_AI/blob/main/10_1_strings.ipynb\" target=\"_parent\"><img src=\"https://colab.research.google.com/assets/colab-badge.svg\" alt=\"Open In Colab\"/></a>"
      ]
    },
    {
      "cell_type": "markdown",
      "source": [
        "# Strings in Python\n",
        "\n",
        "Strings are how we represent text in Python."
      ],
      "metadata": {
        "id": "bE935Y4suZ4d"
      }
    },
    {
      "cell_type": "markdown",
      "source": [
        "## Indexing into strings\n",
        "\n",
        "We can extract a letter / substring by indexing in, as if the string was a list/vector."
      ],
      "metadata": {
        "id": "7MFuOxYduiNO"
      }
    },
    {
      "cell_type": "code",
      "execution_count": null,
      "metadata": {
        "id": "9Y8VJpheuAk3"
      },
      "outputs": [],
      "source": [
        "string = \"abcdef\""
      ]
    },
    {
      "cell_type": "markdown",
      "source": [
        "We can select out the first letter using,"
      ],
      "metadata": {
        "id": "sww_XsfyuvvH"
      }
    },
    {
      "cell_type": "code",
      "source": [
        "string[0]"
      ],
      "metadata": {
        "colab": {
          "base_uri": "https://localhost:8080/",
          "height": 35
        },
        "id": "jNAf_QD6utkH",
        "outputId": "541ee4d1-1021-47ff-f41c-3eedf2386680"
      },
      "execution_count": null,
      "outputs": [
        {
          "output_type": "execute_result",
          "data": {
            "text/plain": [
              "'a'"
            ],
            "application/vnd.google.colaboratory.intrinsic+json": {
              "type": "string"
            }
          },
          "metadata": {},
          "execution_count": 4
        }
      ]
    },
    {
      "cell_type": "markdown",
      "source": [
        "We can select the second letter using,"
      ],
      "metadata": {
        "id": "OUGWq9gNu1JS"
      }
    },
    {
      "cell_type": "code",
      "source": [
        "string[1]"
      ],
      "metadata": {
        "colab": {
          "base_uri": "https://localhost:8080/",
          "height": 35
        },
        "id": "KE890H6RuyOw",
        "outputId": "3f035133-b67a-4832-cab1-468bd7a8bba6"
      },
      "execution_count": null,
      "outputs": [
        {
          "output_type": "execute_result",
          "data": {
            "text/plain": [
              "'b'"
            ],
            "application/vnd.google.colaboratory.intrinsic+json": {
              "type": "string"
            }
          },
          "metadata": {},
          "execution_count": 5
        }
      ]
    },
    {
      "cell_type": "markdown",
      "source": [
        "We can select the last letter using,"
      ],
      "metadata": {
        "id": "uNQA5J-au8Tb"
      }
    },
    {
      "cell_type": "code",
      "source": [
        "string[-1]"
      ],
      "metadata": {
        "colab": {
          "base_uri": "https://localhost:8080/",
          "height": 35
        },
        "id": "maL_cOO2u6Pf",
        "outputId": "80ad0c33-0901-490b-a0e5-d6f63fabaf10"
      },
      "execution_count": null,
      "outputs": [
        {
          "output_type": "execute_result",
          "data": {
            "text/plain": [
              "'f'"
            ],
            "application/vnd.google.colaboratory.intrinsic+json": {
              "type": "string"
            }
          },
          "metadata": {},
          "execution_count": 6
        }
      ]
    },
    {
      "cell_type": "markdown",
      "source": [
        "We can also select ranges.  e.g. we can select the first two letters using,"
      ],
      "metadata": {
        "id": "Qz3_blUjvC2k"
      }
    },
    {
      "cell_type": "code",
      "source": [
        "string[:2]"
      ],
      "metadata": {
        "colab": {
          "base_uri": "https://localhost:8080/",
          "height": 35
        },
        "id": "OR9p3mQPu-aa",
        "outputId": "afcda1cf-fa28-4451-aa37-76e1a7adddbd"
      },
      "execution_count": null,
      "outputs": [
        {
          "output_type": "execute_result",
          "data": {
            "text/plain": [
              "'ab'"
            ],
            "application/vnd.google.colaboratory.intrinsic+json": {
              "type": "string"
            }
          },
          "metadata": {},
          "execution_count": 7
        }
      ]
    },
    {
      "cell_type": "markdown",
      "source": [
        "or we can select the last two letters using,"
      ],
      "metadata": {
        "id": "C8jFnpHDvQuC"
      }
    },
    {
      "cell_type": "code",
      "source": [
        "string[-2:]"
      ],
      "metadata": {
        "colab": {
          "base_uri": "https://localhost:8080/",
          "height": 35
        },
        "id": "JIxmAiB5vMIh",
        "outputId": "ca777146-5e8b-4359-c886-1aa97eced0be"
      },
      "execution_count": null,
      "outputs": [
        {
          "output_type": "execute_result",
          "data": {
            "text/plain": [
              "'ef'"
            ],
            "application/vnd.google.colaboratory.intrinsic+json": {
              "type": "string"
            }
          },
          "metadata": {},
          "execution_count": 8
        }
      ]
    },
    {
      "cell_type": "markdown",
      "source": [
        "## Combining strings"
      ],
      "metadata": {
        "id": "0XoxKcSdvdvF"
      }
    },
    {
      "cell_type": "markdown",
      "source": [
        "We can combine strings using `+`"
      ],
      "metadata": {
        "id": "pqOIC9r5v0bt"
      }
    },
    {
      "cell_type": "code",
      "source": [
        "string1 = \"abc\"\n",
        "string2 = \"def\"\n",
        "string1+string2"
      ],
      "metadata": {
        "colab": {
          "base_uri": "https://localhost:8080/",
          "height": 35
        },
        "id": "AVr6dxEvvVv-",
        "outputId": "02a4830a-b682-499b-86f6-07c2e5c58525"
      },
      "execution_count": null,
      "outputs": [
        {
          "output_type": "execute_result",
          "data": {
            "text/plain": [
              "'abcdef'"
            ],
            "application/vnd.google.colaboratory.intrinsic+json": {
              "type": "string"
            }
          },
          "metadata": {},
          "execution_count": 9
        }
      ]
    },
    {
      "cell_type": "markdown",
      "source": [
        "We can repeat strings using `*`"
      ],
      "metadata": {
        "id": "OR1WF_cUv6mS"
      }
    },
    {
      "cell_type": "code",
      "source": [
        "3*string1"
      ],
      "metadata": {
        "colab": {
          "base_uri": "https://localhost:8080/",
          "height": 35
        },
        "id": "NOwJrVshv5WW",
        "outputId": "0d7be97c-6d5f-441a-aa4f-d817b8b5a44f"
      },
      "execution_count": null,
      "outputs": [
        {
          "output_type": "execute_result",
          "data": {
            "text/plain": [
              "'abcabcabc'"
            ],
            "application/vnd.google.colaboratory.intrinsic+json": {
              "type": "string"
            }
          },
          "metadata": {},
          "execution_count": 10
        }
      ]
    },
    {
      "cell_type": "markdown",
      "source": [
        "## Exercises"
      ],
      "metadata": {
        "id": "-Vt_AofkwHir"
      }
    },
    {
      "cell_type": "markdown",
      "source": [
        "Consider the following string:"
      ],
      "metadata": {
        "id": "dzXcf1c7wJ-X"
      }
    },
    {
      "cell_type": "code",
      "source": [
        "string = \"This is a string\""
      ],
      "metadata": {
        "id": "CN7vS0VUwJUU"
      },
      "execution_count": 2,
      "outputs": []
    },
    {
      "cell_type": "markdown",
      "source": [
        "#### Q1: use indexing to extract the first letter of `string`\n"
      ],
      "metadata": {
        "id": "28GvuphGwPeT"
      }
    },
    {
      "cell_type": "code",
      "source": [
        "#Your code here\n",
        "string[0]"
      ],
      "metadata": {
        "id": "KpOdsCbqwYk5",
        "outputId": "f395f32d-8a23-4ee8-94f1-9a8942e9287f",
        "colab": {
          "base_uri": "https://localhost:8080/",
          "height": 35
        }
      },
      "execution_count": 4,
      "outputs": [
        {
          "output_type": "execute_result",
          "data": {
            "text/plain": [
              "'T'"
            ],
            "application/vnd.google.colaboratory.intrinsic+json": {
              "type": "string"
            }
          },
          "metadata": {},
          "execution_count": 4
        }
      ]
    },
    {
      "cell_type": "code",
      "source": [
        "# @title Answer\n",
        "string[0]"
      ],
      "metadata": {
        "cellView": "form",
        "id": "GylmJuD-v92W"
      },
      "execution_count": null,
      "outputs": []
    },
    {
      "cell_type": "markdown",
      "source": [
        "#### Q2: use indexing to extract the first word of `string`"
      ],
      "metadata": {
        "id": "Z3JgYwYdw3km"
      }
    },
    {
      "cell_type": "code",
      "source": [
        "#Your code here\n",
        "string[:4]"
      ],
      "metadata": {
        "id": "DfWkn6SXwtT6",
        "outputId": "a6b932a0-0413-4bb1-e54f-304a8b88f0a3",
        "colab": {
          "base_uri": "https://localhost:8080/",
          "height": 35
        }
      },
      "execution_count": 5,
      "outputs": [
        {
          "output_type": "execute_result",
          "data": {
            "text/plain": [
              "'This'"
            ],
            "application/vnd.google.colaboratory.intrinsic+json": {
              "type": "string"
            }
          },
          "metadata": {},
          "execution_count": 5
        }
      ]
    },
    {
      "cell_type": "code",
      "source": [
        "# @title Answer\n",
        "string[:4]"
      ],
      "metadata": {
        "cellView": "form",
        "id": "oSRgq3ePwoaA"
      },
      "execution_count": null,
      "outputs": []
    },
    {
      "cell_type": "markdown",
      "source": [
        "#### Q3: use indexing to extract everything except the last word of `string`"
      ],
      "metadata": {
        "id": "izcdusPBxO8O"
      }
    },
    {
      "cell_type": "code",
      "source": [
        "#Your code here\n",
        "string[-6:]"
      ],
      "metadata": {
        "id": "JCM7gTYIxU8V",
        "outputId": "21b3f9c6-183b-4d7a-b2b8-f3eaef280b54",
        "colab": {
          "base_uri": "https://localhost:8080/",
          "height": 35
        }
      },
      "execution_count": 8,
      "outputs": [
        {
          "output_type": "execute_result",
          "data": {
            "text/plain": [
              "'string'"
            ],
            "application/vnd.google.colaboratory.intrinsic+json": {
              "type": "string"
            }
          },
          "metadata": {},
          "execution_count": 8
        }
      ]
    },
    {
      "cell_type": "code",
      "source": [
        "# @title Answer\n",
        "string[:-6]"
      ],
      "metadata": {
        "cellView": "form",
        "id": "p5NiqOnVxWzM"
      },
      "execution_count": null,
      "outputs": []
    },
    {
      "cell_type": "markdown",
      "source": [
        "#### Q4: use `+` to put a full stop at the end of `string`"
      ],
      "metadata": {
        "id": "EeEo-vucw-Qw"
      }
    },
    {
      "cell_type": "code",
      "source": [
        "#Your code here\n",
        "string + \".\""
      ],
      "metadata": {
        "id": "Lt8A_DiZw1ZQ",
        "outputId": "3bdf3f44-b7f7-4b7e-fe14-777af28418cd",
        "colab": {
          "base_uri": "https://localhost:8080/",
          "height": 35
        }
      },
      "execution_count": 9,
      "outputs": [
        {
          "output_type": "execute_result",
          "data": {
            "text/plain": [
              "'This is a string.'"
            ],
            "application/vnd.google.colaboratory.intrinsic+json": {
              "type": "string"
            }
          },
          "metadata": {},
          "execution_count": 9
        }
      ]
    },
    {
      "cell_type": "code",
      "source": [
        "# @title Answer\n",
        "string + \".\""
      ],
      "metadata": {
        "cellView": "form",
        "id": "lf854faDxCl5"
      },
      "execution_count": null,
      "outputs": []
    }
  ]
}