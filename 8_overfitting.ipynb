{
  "cells": [
    {
      "cell_type": "markdown",
      "metadata": {
        "id": "view-in-github",
        "colab_type": "text"
      },
      "source": [
        "<a href=\"https://colab.research.google.com/github/Angus-Eastell/Intro_to_AI/blob/main/8_overfitting.ipynb\" target=\"_parent\"><img src=\"https://colab.research.google.com/assets/colab-badge.svg\" alt=\"Open In Colab\"/></a>"
      ]
    },
    {
      "cell_type": "code",
      "execution_count": 1,
      "metadata": {
        "id": "sLjYSIAe0mwy"
      },
      "outputs": [],
      "source": [
        "import torch as t\n",
        "import numpy as np\n",
        "import matplotlib.pyplot as plt\n",
        "from mpl_toolkits.mplot3d import Axes3D\n",
        "#Enable for prettier plots\n",
        "%matplotlib inline\n",
        "from ipywidgets import FloatSlider, IntSlider, interact, interact_manual, interactive\n",
        "from IPython.display import display"
      ]
    },
    {
      "cell_type": "markdown",
      "metadata": {
        "id": "KO2Y5kvE0mw0"
      },
      "source": [
        "# Overfitting, regularisation and cross-validation\n",
        "\n",
        "**The code in this notebook is non-examinable!! We're doing some slightly weird stuff to get the nice visualisations!!**\n",
        "\n",
        "To understand overfitting, regularisation and cross-validation, we need to start by defining an interesting set of function approximators.  We're going to use linear functions with an interesting set of basis functions.  Specifically,\n",
        "\\begin{align}\n",
        "  f(x) = \\mathbf{w} \\boldsymbol{\\psi}(x)\n",
        "\\end{align}\n",
        "Here, $\\boldsymbol{\\psi}(x)$ is a vector of fixed, nonlinear basis functions.\n",
        "We use the so-called Chebyshev polynomials (we're only using these because they give a nice basis, the Chebyshev polynomials themselves are non-examinable).\n",
        "\\begin{align}\n",
        "  \\psi_0(x) &= 1\\\\\n",
        "  \\psi_1(x) &= x\\\\\n",
        "  \\psi_2(x) &= 2x^2 - 1\\\\\n",
        "  ...\n",
        "\\end{align}\n",
        "These functions look like:"
      ]
    },
    {
      "cell_type": "code",
      "execution_count": 3,
      "metadata": {
        "colab": {
          "base_uri": "https://localhost:8080/",
          "height": 49,
          "referenced_widgets": [
            "ceae35af3252474f8545d74f1694e135",
            "c697c87a1c594ddbaf15c361794d935d",
            "85ec00c672cf481ab4e37f4a51d24b47",
            "6fec2f0c2b26450fb2d0944c26083fed",
            "6176a31292f04de0be3e0f82c51421b0",
            "a47b37e2d26046e3a4d659fd9d91f569",
            "ab1f97061be74e60a6c76d55d98fc549"
          ]
        },
        "id": "hz7HWpq70mw5",
        "outputId": "241b5427-1d58-4e69-c362-685b66ff4996"
      },
      "outputs": [
        {
          "output_type": "display_data",
          "data": {
            "text/plain": [
              "interactive(children=(Button(description='Run Interact', style=ButtonStyle()), Output()), _dom_classes=('widge…"
            ],
            "application/vnd.jupyter.widget-view+json": {
              "version_major": 2,
              "version_minor": 0,
              "model_id": "ceae35af3252474f8545d74f1694e135"
            }
          },
          "metadata": {}
        }
      ],
      "source": [
        "def cheb(x, order):\n",
        "    assert (-1 <= x).all() and (x <= 1).all()\n",
        "\n",
        "    cheb_list = []\n",
        "    for c in range(order+1):\n",
        "        coefs = c*[0] + [1]\n",
        "        cheb_list.append(np.polynomial.chebyshev.chebval(x, coefs))\n",
        "    return t.stack(cheb_list, 1)\n",
        "\n",
        "xs = t.linspace(-1, 1, 100)\n",
        "chebs = cheb(xs, 30)\n",
        "\n",
        "order = 0\n",
        "def add_line():\n",
        "    global order\n",
        "    plt.figure()\n",
        "    plt.xlabel(\"$x$\")\n",
        "    plt.ylabel(\"$\\psi_\\lambda$\")\n",
        "    plt.xlim(-1, 1)\n",
        "    plt.ylim(-1.2, 1.2)\n",
        "    order += 1\n",
        "    for i in range(order):\n",
        "        plt.plot(xs, chebs[:, i])\n",
        "    plt.show()\n",
        "\n",
        "interact_manual(add_line);"
      ]
    },
    {
      "cell_type": "markdown",
      "source": [
        "Now consider a dataset.  To generate this data, we took random x's between -1 and 1, used a true relationship of $y_\\text{true}(x) = 0.5 x + 0.2$, and added noise with standard deviation $0.5$,"
      ],
      "metadata": {
        "id": "2ylO2naCEskD"
      }
    },
    {
      "cell_type": "code",
      "source": [
        "t.manual_seed(0)\n",
        "\n",
        "N = 10  # number of datapoints\n",
        "x = 2*t.rand(N) - 1\n",
        "ytrue = 0.2 + 0.5*x\n",
        "y = ytrue + 0.5*t.randn(N)\n",
        "\n",
        "\n",
        "plt.figure()\n",
        "plt.xlabel(\"$x$\")\n",
        "plt.ylabel(\"$y$\")\n",
        "plt.xlim(-1, 1)\n",
        "plt.ylim(-2, 2)\n",
        "plt.scatter(x, y, label=\"observed data\")\n",
        "plt.plot(x, ytrue, label=\"true line\")\n",
        "plt.legend()\n",
        "plt.show()"
      ],
      "metadata": {
        "colab": {
          "base_uri": "https://localhost:8080/",
          "height": 455
        },
        "id": "35I0FaM-Ewkj",
        "outputId": "01654755-875f-4509-cc31-60d1b10b6847"
      },
      "execution_count": 12,
      "outputs": [
        {
          "output_type": "display_data",
          "data": {
            "text/plain": [
              "<Figure size 640x480 with 1 Axes>"
            ],
            "image/png": "[encoded data removed]"
          },
          "metadata": {}
        }
      ]
    },
    {
      "cell_type": "markdown",
      "source": [
        "Now, we use linear regression to fit these data, with functions of varying complexity.\n",
        "\n",
        "\n"
      ],
      "metadata": {
        "id": "pNuJs5VxFtGc"
      }
    },
    {
      "cell_type": "code",
      "execution_count": 13,
      "metadata": {
        "colab": {
          "base_uri": "https://localhost:8080/",
          "height": 554,
          "referenced_widgets": [
            "c6bb7b1d913d4740ad31d53368ac0a51",
            "5c8a953d46cb40e48d94ad8fc6279e2c",
            "b787ecdc000a49aa9f44e8f89d3abebd",
            "85e6d5fa4e6e48b4ad4a0b94de2697d1",
            "517f42ec6df64954a3f5c1374299fecf",
            "420b2f9c25ae45cca11811bf0188a3c6",
            "87a289f3dad642aab3ef1c64aada84b7",
            "43bf804f1d534e34acbde66ec9251b8f",
            "61d6074ce81446d1834507f0e67baec2",
            "6fe11b6701f34d5abc5fa5f80252de26"
          ]
        },
        "id": "BqiDhKRH0mw5",
        "outputId": "e607edae-b255-4672-e412-88c36d934443"
      },
      "outputs": [
        {
          "output_type": "display_data",
          "data": {
            "text/plain": [
              "interactive(children=(IntSlider(value=0, description='order', max=10), Button(description='Run Interact', styl…"
            ],
            "application/vnd.jupyter.widget-view+json": {
              "version_major": 2,
              "version_minor": 0,
              "model_id": "c6bb7b1d913d4740ad31d53368ac0a51"
            }
          },
          "metadata": {}
        }
      ],
      "source": [
        "W_true = t.tensor([0.2, 0.5])\n",
        "\n",
        "def fit_W(X, y):\n",
        "    return t.inverse(X.T @ X) @ (X.T @ y)\n",
        "\n",
        "def plot(order):\n",
        "    X     = cheb(x, order)\n",
        "    W_est = fit_W(X, y)\n",
        "    print(f\"W_true = {W_true.T}\")\n",
        "    print(f\"W_est = {W_est.T}\")\n",
        "\n",
        "    plt.figure()\n",
        "    plt.xlabel(\"$x$\")\n",
        "    plt.ylabel(\"$y$\")\n",
        "    plt.xlim(-1, 1)\n",
        "    plt.ylim(-2, 2)\n",
        "    plt.scatter(x, y, label=\"data\");\n",
        "\n",
        "    x_linspace = t.linspace(-1, 1, 1000)\n",
        "    plt.plot(x_linspace, cheb(x_linspace, order)@W_est, 'r', label=\"fitted\")\n",
        "    plt.legend()\n",
        "    plt.show()\n",
        "\n",
        "interact_manual(plot, order=IntSlider(min=0, max=10));"
      ]
    },
    {
      "cell_type": "markdown",
      "metadata": {
        "id": "e6KrdY6t0mw6"
      },
      "source": [
        "There is serious overfitting when we use complicated functions.  So could we just use a simpler function class? Yes, absolutely!\n",
        "\n",
        "But our current proceedure of just looking at the data and choosing a good-looking function class has problems:\n",
        "* It is subjective: often different function classes will look pretty good. Which one should we choose?  Should we just guess?\n",
        "* We often won't be able to easily look at the data.  For instance, if there are multiple input features, or we have to choose the function class for _loads_ of different regressions.\n",
        "\n",
        "So we need an automated proceedure for choosing the function class.  And that's given to us by cross-validation!\n",
        "\n",
        "## Cross-validation\n",
        "\n",
        "How can we measure overfitting?  Cross-validation!\n",
        "\n",
        "In cross-validation, we split the data into \"training\" and \"validation\" sets.  We train the model on the training set, then look at the error/loss on the validation set.\n",
        "\n"
      ]
    },
    {
      "cell_type": "code",
      "execution_count": 14,
      "metadata": {
        "colab": {
          "base_uri": "https://localhost:8080/",
          "height": 536,
          "referenced_widgets": [
            "079235f9f9d848f1a4d2d2999638f327",
            "8db2c76f22f7428da5162e1d2651b9bd",
            "841595c7f33b40eb89f5a6b499de9b18",
            "c53bb58cf9eb48a78d6b658949607cb1",
            "57eba97cae5b452bbd7c3a8f0015ef6b",
            "c645ae45d7eb46c699be960efe50ce6d",
            "41cf44613a1c4a86b0d3e4f77a4c409b",
            "4afd3704a78f49dc9d0d843a79d4ff15",
            "83a1c1b74bf94bf1886f12f7136391db",
            "332ee27c6c494c60a55c03a8cf6ff0a1"
          ]
        },
        "id": "A0-Ml7j-0mw6",
        "outputId": "50b9a8ec-869d-4111-a2ab-db0dafed7004"
      },
      "outputs": [
        {
          "output_type": "display_data",
          "data": {
            "text/plain": [
              "interactive(children=(IntSlider(value=0, description='order', max=10), Button(description='Run Interact', styl…"
            ],
            "application/vnd.jupyter.widget-view+json": {
              "version_major": 2,
              "version_minor": 0,
              "model_id": "079235f9f9d848f1a4d2d2999638f327"
            }
          },
          "metadata": {}
        }
      ],
      "source": [
        "x_train = x[:7]\n",
        "x_test = x[7:]\n",
        "\n",
        "y_train = y[:7]\n",
        "y_test = y[7:]\n",
        "\n",
        "def plot(order):\n",
        "    X_train = cheb(x_train, order)\n",
        "    X_test = cheb(x_test, order)\n",
        "\n",
        "    W_est = fit_W(X_train, y_train)\n",
        "\n",
        "    y_est_test = X_test @ W_est\n",
        "    cross_validation_error = ((y_test - y_est_test)**2).mean()\n",
        "    print(f\"cross validation error: {cross_validation_error}\")\n",
        "\n",
        "    plt.figure()\n",
        "    plt.xlabel(\"$x$\")\n",
        "    plt.ylabel(\"$y$\")\n",
        "    plt.xlim(-1, 1)\n",
        "    plt.ylim(-2, 2)\n",
        "    plt.scatter(x_train, y_train, label=\"training data\");\n",
        "    plt.scatter(x_test, y_test, label=\"validation data\");\n",
        "    plt.vlines(x_test, y_test, y_est_test, label=\"test residuals\")\n",
        "\n",
        "\n",
        "    x_linspace = t.linspace(-1, 1, 1000)\n",
        "    plt.plot(x_linspace, cheb(x_linspace, order)@W_est, 'r', label=\"fitted\")\n",
        "    plt.legend()\n",
        "    plt.show()\n",
        "\n",
        "interact_manual(plot, order=IntSlider(min=0, max=10));"
      ]
    },
    {
      "cell_type": "markdown",
      "source": [
        "We compute the cross-validation error/loss for all the different models, and choose the model with the lowest cross-validation error/loss.\n",
        "\n",
        "It turns out that we have the lowest cross-validation error for the linear model.  And that's correct, as we generated the data from a linear model!"
      ],
      "metadata": {
        "id": "KKLf9bBHKqfQ"
      }
    },
    {
      "cell_type": "code",
      "source": [
        "orders = t.arange(5)\n",
        "cross_validation_errors = []\n",
        "for order in orders:\n",
        "    X_train = cheb(x_train, order)\n",
        "    X_test = cheb(x_test, order)\n",
        "\n",
        "    W_est = fit_W(X_train, y_train)\n",
        "\n",
        "    y_est_test = X_test @ W_est\n",
        "    cross_validation_errors.append(((y_test - y_est_test)**2).mean())\n",
        "\n",
        "plt.figure()\n",
        "plt.xlabel(\"order\")\n",
        "plt.yscale(\"log\")\n",
        "plt.ylabel(\"cross validation error\")\n",
        "plt.scatter(orders, cross_validation_errors)\n",
        "plt.show()"
      ],
      "metadata": {
        "colab": {
          "base_uri": "https://localhost:8080/",
          "height": 449
        },
        "id": "a3kEA7oJRNsV",
        "outputId": "69fed07c-29bc-4b11-aaed-25cbbce6d52c"
      },
      "execution_count": 15,
      "outputs": [
        {
          "output_type": "display_data",
          "data": {
            "text/plain": [
              "<Figure size 640x480 with 1 Axes>"
            ],
            "image/png": "[encoded data removed]"
          },
          "metadata": {}
        }
      ]
    },
    {
      "cell_type": "markdown",
      "metadata": {
        "id": "XI_HNJp40mw7"
      },
      "source": [
        "Here, we've used the simplest possible cross-validation scheme, of just \"holding out\" three datapoints out of the 10.  There are _loads_ more complex schemes.  But they aren't commonly used in AI, so we're not going to delve into them here."
      ]
    },
    {
      "cell_type": "markdown",
      "metadata": {
        "id": "2fAIl9bF0mw7"
      },
      "source": [
        "## Regularisation\n",
        "\n",
        "Using simple functions is great, if the patterns in the data really are simple.\n",
        "But if the patterns in the data really are complex (but you still have lots of noise) then you've got problems.  You can't just use a simple function, because then you'll underfit (i.e. fail to fit complex patterns in the real data).  But you can't use a complex function, because you'll overfit (i.e. be misled by noise).  \n",
        "\n",
        "What's the solution?  Regularisation.  Regularisation allows us to use more complex basis functions, but stops the function from going crazy by penalising large values for the weights.\n",
        "\n",
        "Specifically, the loss function for regularised linear regression is slightly modified,\n",
        "\\begin{align}\n",
        "\\mathcal{L} &= \\sum_i (\\hat{y}(x_i) - y_i)^2 + \\lambda \\sum_j w_j^2.\n",
        "\\end{align}\n",
        "We keep the squared error term, and we add a term that penalises very large values for the weights.\n",
        "\n",
        "That results in a slightly modified equation for the optimal weights,\n",
        "\\begin{align}\n",
        "  \\mathbf{w} &= (\\mathbf{X}^T \\mathbf{X} + \\lambda I)^{-1} \\mathbf{X}^T \\mathbf{y}.\n",
        "\\end{align}\n",
        "Note that this is very similar to the usual expression, but we have added $+ \\lambda I$ inside the matrix inverse.\n",
        "\n",
        "And we consider a slightly modified datasets, with complex underlying patterns,"
      ]
    },
    {
      "cell_type": "code",
      "execution_count": 8,
      "metadata": {
        "colab": {
          "base_uri": "https://localhost:8080/",
          "height": 472
        },
        "id": "rN-Aw3EN0mw7",
        "outputId": "6d754085-f868-46ad-9b45-b14ca4176ea6"
      },
      "outputs": [
        {
          "output_type": "execute_result",
          "data": {
            "text/plain": [
              "<matplotlib.collections.PathCollection at 0x7ccd6e77b090>"
            ]
          },
          "metadata": {},
          "execution_count": 8
        },
        {
          "output_type": "display_data",
          "data": {
            "text/plain": [
              "<Figure size 640x480 with 1 Axes>"
            ],
            "image/png": "[encoded data removed]"
          },
          "metadata": {}
        }
      ],
      "source": [
        "t.manual_seed(0)\n",
        "\n",
        "N     = 30  # number of datapoints\n",
        "W_true = t.tensor([0, 0, 0, 0, 0, 0.3])\n",
        "\n",
        "x     = 2*t.rand(N) - 1\n",
        "y     = t.sin(6*x) + 0.5*t.randn(N)\n",
        "\n",
        "plt.figure()\n",
        "plt.xlabel(\"$x$\")\n",
        "plt.ylabel(\"$y$\")\n",
        "plt.xlim(-1, 1)\n",
        "plt.ylim(-2, 2)\n",
        "\n",
        "plt.scatter(x, y)"
      ]
    },
    {
      "cell_type": "code",
      "execution_count": 16,
      "metadata": {
        "colab": {
          "base_uri": "https://localhost:8080/",
          "height": 586,
          "referenced_widgets": [
            "c72e4a9870e84e89b0790053c963511c",
            "968c40b761ca4aecaa73566499c64e8a",
            "02af1a6e779e45259ceddbd7021bfa08",
            "4745d66c2cb84e618bccbcefa8e22299",
            "cd68287900d247e5b9310c8195258552",
            "64a37ad875f643fd9adcecdf2c324391",
            "88b2fff1ebc14f998fade132266477fa",
            "1692608c865c43cba3c39edb901c0ed9",
            "edcc0fc1dd7c4d21afb81446fe6c3edc",
            "29a728156a2342709b8bcacaea2aa231",
            "ff46cfa98de140e89477f08d9d3acc47",
            "0cf92ad763a24c189898d4e17f581b4e",
            "7d5999e04beb4fc5bcbad29ff715d41c"
          ]
        },
        "id": "9vR5KNkZ0mw8",
        "outputId": "19fb0fcb-349a-42b6-e4cc-ed9df927dfa3"
      },
      "outputs": [
        {
          "output_type": "display_data",
          "data": {
            "text/plain": [
              "interactive(children=(IntSlider(value=0, description='order', max=9), FloatSlider(value=0.0, description='reg'…"
            ],
            "application/vnd.jupyter.widget-view+json": {
              "version_major": 2,
              "version_minor": 0,
              "model_id": "c72e4a9870e84e89b0790053c963511c"
            }
          },
          "metadata": {}
        }
      ],
      "source": [
        "x_train = x[:10]\n",
        "x_test = x[10:]\n",
        "\n",
        "y_train = y[:10]\n",
        "y_test = y[10:]\n",
        "\n",
        "def fit_W_reg(X, y, reg):\n",
        "    return t.inverse(X.mT @ X + reg*t.eye(X.shape[-1])) @ (X.mT @ y)\n",
        "\n",
        "def plot(order, reg):\n",
        "    X_train = cheb(x_train, order)\n",
        "    X_test  = cheb(x_test, order)\n",
        "\n",
        "    W_est    = fit_W_reg(X_train, y_train, reg)\n",
        "\n",
        "    y_test_est = X_test @ W_est\n",
        "    cross_validation_error = ((y_test - y_test_est)**2).mean()\n",
        "    print(f\"cross validation error: {cross_validation_error}\")\n",
        "    print(f\"W_est: {W_est}\")\n",
        "\n",
        "    plt.figure()\n",
        "    plt.xlabel(\"$x$\")\n",
        "    plt.ylabel(\"$y$\")\n",
        "    plt.xlim(-1, 1)\n",
        "    plt.ylim(-2, 2)\n",
        "    plt.scatter(x_train, y_train, label=\"training data\");\n",
        "    plt.scatter(x_test, y_test, label=\"validation data\");\n",
        "    plt.vlines(x_test, y_test, y_test_est, label=\"test residuals\")\n",
        "\n",
        "\n",
        "    x_linspace = t.linspace(-1, 1, 1000)\n",
        "    plt.plot(x_linspace, cheb(x_linspace, order)@W_est, 'r', label=\"fitted\")\n",
        "    plt.legend()\n",
        "    plt.show()\n",
        "\n",
        "interact_manual(plot, order=IntSlider(min=0, max=9), reg=FloatSlider(min=0, max=2));"
      ]
    },
    {
      "cell_type": "markdown",
      "metadata": {
        "id": "Tado0ZdG0mw8"
      },
      "source": [
        "Note that in this example, the corollary of overfitting is the estimated weights getting really big.\n",
        "\n",
        "Regularisation explicitly penalises large weights, and gives more sensible solutions."
      ]
    },
    {
      "cell_type": "markdown",
      "metadata": {
        "id": "5VaulHSs0mw8"
      },
      "source": [
        "<h3> Automatic selection of the regulariser using cross-validation </h3>\n",
        "\n",
        "Now things are even worse.  Before, we just had to choose the \"function complexity\", which was a smallish integer.  Now we have to choose a regulariser, and we don't even know what type of size the regulariser should be.\n",
        "\n",
        "The only thing we can do is to use cross-validation!"
      ]
    },
    {
      "cell_type": "code",
      "execution_count": 10,
      "metadata": {
        "colab": {
          "base_uri": "https://localhost:8080/",
          "height": 454
        },
        "id": "um56U7bi0mw9",
        "outputId": "fd871764-f9f4-47aa-8728-98952a89d9f7"
      },
      "outputs": [
        {
          "output_type": "display_data",
          "data": {
            "text/plain": [
              "<Figure size 640x480 with 1 Axes>"
            ],
            "image/png": "[encoded data removed]"
          },
          "metadata": {}
        }
      ],
      "source": [
        "log_10_regs = np.linspace(-4, 4, 100)\n",
        "regs = 10**log_10_regs\n",
        "cross_validation_errors = []\n",
        "for reg in regs:\n",
        "    X_train = cheb(x_train, order=9)\n",
        "    X_test  = cheb(x_test, order=9)\n",
        "\n",
        "    W_est    = fit_W_reg(X_train, y_train, reg)\n",
        "\n",
        "    y_test_est = X_test @ W_est\n",
        "    cross_validation_errors.append(((y_test - y_test_est)**2).mean().item())\n",
        "\n",
        "\n",
        "plt.figure()\n",
        "plt.xlabel(\"regulariser\")\n",
        "plt.ylabel(\"cross-validation error\")\n",
        "plt.xscale('log')\n",
        "plt.yscale('log')\n",
        "plt.plot(regs, cross_validation_errors);"
      ]
    },
    {
      "cell_type": "markdown",
      "metadata": {
        "id": "mBJ9SeKy0mw9"
      },
      "source": [
        "Now we can select the regulariser with the lowest cross-validation error."
      ]
    },
    {
      "cell_type": "code",
      "execution_count": 11,
      "metadata": {
        "colab": {
          "base_uri": "https://localhost:8080/",
          "height": 507
        },
        "id": "GN8WMnby0mw-",
        "outputId": "85e51f96-9d6d-4766-c3e8-386c4c9281ec"
      },
      "outputs": [
        {
          "output_type": "stream",
          "name": "stdout",
          "text": [
            "cross validation error: 0.32968416810035706\n",
            "W_est: tensor([-0.1457, -0.2924,  0.0578, -0.0420, -0.0482,  0.7165,  0.1260, -0.1945,\n",
            "         0.2772,  0.0643])\n"
          ]
        },
        {
          "output_type": "display_data",
          "data": {
            "text/plain": [
              "<Figure size 640x480 with 1 Axes>"
            ],
            "image/png": "[encoded data removed]"
          },
          "metadata": {}
        }
      ],
      "source": [
        "best_reg = regs[t.argmin(t.tensor(cross_validation_errors))]\n",
        "plot(order=9, reg=best_reg)"
      ]
    },
    {
      "cell_type": "markdown",
      "metadata": {
        "id": "MCAUqeTv0mw-"
      },
      "source": [
        "<h3> Limits of cross-validation </h3>\n",
        "\n",
        "There's a bunch of issues with cross-validation:\n",
        "<ul>\n",
        "    <li> Parameter sweeps can be numerically costly. </li>\n",
        "    <li> Splitting your data gives you less data for training, which is very problematic with smaller amounts of data. </li>\n",
        "    <li> Scales poorly if you want to cross-validate many different parameters. </li>\n",
        "</ul>"
      ]
    }
  ],
  "metadata": {
    "kernelspec": {
      "display_name": "Python 3 (ipykernel)",
      "language": "python",
      "name": "python3"
    },
    "language_info": {
      "codemirror_mode": {
        "name": "ipython",
        "version": 3
      },
      "file_extension": ".py",
      "mimetype": "text/x-python",
      "name": "python",
      "nbconvert_exporter": "python",
      "pygments_lexer": "ipython3",
      "version": "3.9.7"
    },
    "colab": {
      "provenance": [],
      "include_colab_link": true
    },
    "widgets": {
      "application/vnd.jupyter.widget-state+json": {
        "ceae35af3252474f8545d74f1694e135": {
          "model_module": "@jupyter-widgets/controls",
          "model_name": "VBoxModel",
          "model_module_version": "1.5.0",
          "state": {
            "_dom_classes": [
              "widget-interact"
            ],
            "_model_module": "@jupyter-widgets/controls",
            "_model_module_version": "1.5.0",
            "_model_name": "VBoxModel",
            "_view_count": null,
            "_view_module": "@jupyter-widgets/controls",
            "_view_module_version": "1.5.0",
            "_view_name": "VBoxView",
            "box_style": "",
            "children": [
              "IPY_MODEL_c697c87a1c594ddbaf15c361794d935d",
              "IPY_MODEL_85ec00c672cf481ab4e37f4a51d24b47"
            ],
            "layout": "IPY_MODEL_6fec2f0c2b26450fb2d0944c26083fed"
          }
        },
        "c697c87a1c594ddbaf15c361794d935d": {
          "model_module": "@jupyter-widgets/controls",
          "model_name": "ButtonModel",
          "model_module_version": "1.5.0",
          "state": {
            "_dom_classes": [],
            "_model_module": "@jupyter-widgets/controls",
            "_model_module_version": "1.5.0",
            "_model_name": "ButtonModel",
            "_view_count": null,
            "_view_module": "@jupyter-widgets/controls",
            "_view_module_version": "1.5.0",
            "_view_name": "ButtonView",
            "button_style": "",
            "description": "Run Interact",
            "disabled": false,
            "icon": "",
            "layout": "IPY_MODEL_6176a31292f04de0be3e0f82c51421b0",
            "style": "IPY_MODEL_a47b37e2d26046e3a4d659fd9d91f569",
            "tooltip": ""
          }
        },
        "85ec00c672cf481ab4e37f4a51d24b47": {
          "model_module": "@jupyter-widgets/output",
          "model_name": "OutputModel",
          "model_module_version": "1.0.0",
          "state": {
            "_dom_classes": [],
            "_model_module": "@jupyter-widgets/output",
            "_model_module_version": "1.0.0",
            "_model_name": "OutputModel",
            "_view_count": null,
            "_view_module": "@jupyter-widgets/output",
            "_view_module_version": "1.0.0",
            "_view_name": "OutputView",
            "layout": "IPY_MODEL_ab1f97061be74e60a6c76d55d98fc549",
            "msg_id": "",
            "outputs": []
          }
        },
        "6fec2f0c2b26450fb2d0944c26083fed": {
          "model_module": "@jupyter-widgets/base",
          "model_name": "LayoutModel",
          "model_module_version": "1.2.0",
          "state": {
            "_model_module": "@jupyter-widgets/base",
            "_model_module_version": "1.2.0",
            "_model_name": "LayoutModel",
            "_view_count": null,
            "_view_module": "@jupyter-widgets/base",
            "_view_module_version": "1.2.0",
            "_view_name": "LayoutView",
            "align_content": null,
            "align_items": null,
            "align_self": null,
            "border": null,
            "bottom": null,
            "display": null,
            "flex": null,
            "flex_flow": null,
            "grid_area": null,
            "grid_auto_columns": null,
            "grid_auto_flow": null,
            "grid_auto_rows": null,
            "grid_column": null,
            "grid_gap": null,
            "grid_row": null,
            "grid_template_areas": null,
            "grid_template_columns": null,
            "grid_template_rows": null,
            "height": null,
            "justify_content": null,
            "justify_items": null,
            "left": null,
            "margin": null,
            "max_height": null,
            "max_width": null,
            "min_height": null,
            "min_width": null,
            "object_fit": null,
            "object_position": null,
            "order": null,
            "overflow": null,
            "overflow_x": null,
            "overflow_y": null,
            "padding": null,
            "right": null,
            "top": null,
            "visibility": null,
            "width": null
          }
        },
        "6176a31292f04de0be3e0f82c51421b0": {
          "model_module": "@jupyter-widgets/base",
          "model_name": "LayoutModel",
          "model_module_version": "1.2.0",
          "state": {
            "_model_module": "@jupyter-widgets/base",
            "_model_module_version": "1.2.0",
            "_model_name": "LayoutModel",
            "_view_count": null,
            "_view_module": "@jupyter-widgets/base",
            "_view_module_version": "1.2.0",
            "_view_name": "LayoutView",
            "align_content": null,
            "align_items": null,
            "align_self": null,
            "border": null,
            "bottom": null,
            "display": null,
            "flex": null,
            "flex_flow": null,
            "grid_area": null,
            "grid_auto_columns": null,
            "grid_auto_flow": null,
            "grid_auto_rows": null,
            "grid_column": null,
            "grid_gap": null,
            "grid_row": null,
            "grid_template_areas": null,
            "grid_template_columns": null,
            "grid_template_rows": null,
            "height": null,
            "justify_content": null,
            "justify_items": null,
            "left": null,
            "margin": null,
            "max_height": null,
            "max_width": null,
            "min_height": null,
            "min_width": null,
            "object_fit": null,
            "object_position": null,
            "order": null,
            "overflow": null,
            "overflow_x": null,
            "overflow_y": null,
            "padding": null,
            "right": null,
            "top": null,
            "visibility": null,
            "width": null
          }
        },
        "a47b37e2d26046e3a4d659fd9d91f569": {
          "model_module": "@jupyter-widgets/controls",
          "model_name": "ButtonStyleModel",
          "model_module_version": "1.5.0",
          "state": {
            "_model_module": "@jupyter-widgets/controls",
            "_model_module_version": "1.5.0",
            "_model_name": "ButtonStyleModel",
            "_view_count": null,
            "_view_module": "@jupyter-widgets/base",
            "_view_module_version": "1.2.0",
            "_view_name": "StyleView",
            "button_color": null,
            "font_weight": ""
          }
        },
        "ab1f97061be74e60a6c76d55d98fc549": {
          "model_module": "@jupyter-widgets/base",
          "model_name": "LayoutModel",
          "model_module_version": "1.2.0",
          "state": {
            "_model_module": "@jupyter-widgets/base",
            "_model_module_version": "1.2.0",
            "_model_name": "LayoutModel",
            "_view_count": null,
            "_view_module": "@jupyter-widgets/base",
            "_view_module_version": "1.2.0",
            "_view_name": "LayoutView",
            "align_content": null,
            "align_items": null,
            "align_self": null,
            "border": null,
            "bottom": null,
            "display": null,
            "flex": null,
            "flex_flow": null,
            "grid_area": null,
            "grid_auto_columns": null,
            "grid_auto_flow": null,
            "grid_auto_rows": null,
            "grid_column": null,
            "grid_gap": null,
            "grid_row": null,
            "grid_template_areas": null,
            "grid_template_columns": null,
            "grid_template_rows": null,
            "height": null,
            "justify_content": null,
            "justify_items": null,
            "left": null,
            "margin": null,
            "max_height": null,
            "max_width": null,
            "min_height": null,
            "min_width": null,
            "object_fit": null,
            "object_position": null,
            "order": null,
            "overflow": null,
            "overflow_x": null,
            "overflow_y": null,
            "padding": null,
            "right": null,
            "top": null,
            "visibility": null,
            "width": null
          }
        },
        "c6bb7b1d913d4740ad31d53368ac0a51": {
          "model_module": "@jupyter-widgets/controls",
          "model_name": "VBoxModel",
          "model_module_version": "1.5.0",
          "state": {
            "_dom_classes": [
              "widget-interact"
            ],
            "_model_module": "@jupyter-widgets/controls",
            "_model_module_version": "1.5.0",
            "_model_name": "VBoxModel",
            "_view_count": null,
            "_view_module": "@jupyter-widgets/controls",
            "_view_module_version": "1.5.0",
            "_view_name": "VBoxView",
            "box_style": "",
            "children": [
              "IPY_MODEL_5c8a953d46cb40e48d94ad8fc6279e2c",
              "IPY_MODEL_b787ecdc000a49aa9f44e8f89d3abebd",
              "IPY_MODEL_85e6d5fa4e6e48b4ad4a0b94de2697d1"
            ],
            "layout": "IPY_MODEL_517f42ec6df64954a3f5c1374299fecf"
          }
        },
        "5c8a953d46cb40e48d94ad8fc6279e2c": {
          "model_module": "@jupyter-widgets/controls",
          "model_name": "IntSliderModel",
          "model_module_version": "1.5.0",
          "state": {
            "_dom_classes": [],
            "_model_module": "@jupyter-widgets/controls",
            "_model_module_version": "1.5.0",
            "_model_name": "IntSliderModel",
            "_view_count": null,
            "_view_module": "@jupyter-widgets/controls",
            "_view_module_version": "1.5.0",
            "_view_name": "IntSliderView",
            "continuous_update": true,
            "description": "order",
            "description_tooltip": null,
            "disabled": false,
            "layout": "IPY_MODEL_420b2f9c25ae45cca11811bf0188a3c6",
            "max": 10,
            "min": 0,
            "orientation": "horizontal",
            "readout": true,
            "readout_format": "d",
            "step": 1,
            "style": "IPY_MODEL_87a289f3dad642aab3ef1c64aada84b7",
            "value": 1
          }
        },
        "b787ecdc000a49aa9f44e8f89d3abebd": {
          "model_module": "@jupyter-widgets/controls",
          "model_name": "ButtonModel",
          "model_module_version": "1.5.0",
          "state": {
            "_dom_classes": [],
            "_model_module": "@jupyter-widgets/controls",
            "_model_module_version": "1.5.0",
            "_model_name": "ButtonModel",
            "_view_count": null,
            "_view_module": "@jupyter-widgets/controls",
            "_view_module_version": "1.5.0",
            "_view_name": "ButtonView",
            "button_style": "",
            "description": "Run Interact",
            "disabled": false,
            "icon": "",
            "layout": "IPY_MODEL_43bf804f1d534e34acbde66ec9251b8f",
            "style": "IPY_MODEL_61d6074ce81446d1834507f0e67baec2",
            "tooltip": ""
          }
        },
        "85e6d5fa4e6e48b4ad4a0b94de2697d1": {
          "model_module": "@jupyter-widgets/output",
          "model_name": "OutputModel",
          "model_module_version": "1.0.0",
          "state": {
            "_dom_classes": [],
            "_model_module": "@jupyter-widgets/output",
            "_model_module_version": "1.0.0",
            "_model_name": "OutputModel",
            "_view_count": null,
            "_view_module": "@jupyter-widgets/output",
            "_view_module_version": "1.0.0",
            "_view_name": "OutputView",
            "layout": "IPY_MODEL_6fe11b6701f34d5abc5fa5f80252de26",
            "msg_id": "",
            "outputs": [
              {
                "output_type": "stream",
                "name": "stdout",
                "text": [
                  "W_true = tensor([0.2000, 0.5000])\n",
                  "W_est = tensor([0.2155, 0.5923])\n"
                ]
              },
              {
                "output_type": "display_data",
                "data": {
                  "text/plain": "<Figure size 640x480 with 1 Axes>",
                  "image/png": "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\n"
                },
                "metadata": {}
              }
            ]
          }
        },
        "517f42ec6df64954a3f5c1374299fecf": {
          "model_module": "@jupyter-widgets/base",
          "model_name": "LayoutModel",
          "model_module_version": "1.2.0",
          "state": {
            "_model_module": "@jupyter-widgets/base",
            "_model_module_version": "1.2.0",
            "_model_name": "LayoutModel",
            "_view_count": null,
            "_view_module": "@jupyter-widgets/base",
            "_view_module_version": "1.2.0",
            "_view_name": "LayoutView",
            "align_content": null,
            "align_items": null,
            "align_self": null,
            "border": null,
            "bottom": null,
            "display": null,
            "flex": null,
            "flex_flow": null,
            "grid_area": null,
            "grid_auto_columns": null,
            "grid_auto_flow": null,
            "grid_auto_rows": null,
            "grid_column": null,
            "grid_gap": null,
            "grid_row": null,
            "grid_template_areas": null,
            "grid_template_columns": null,
            "grid_template_rows": null,
            "height": null,
            "justify_content": null,
            "justify_items": null,
            "left": null,
            "margin": null,
            "max_height": null,
            "max_width": null,
            "min_height": null,
            "min_width": null,
            "object_fit": null,
            "object_position": null,
            "order": null,
            "overflow": null,
            "overflow_x": null,
            "overflow_y": null,
            "padding": null,
            "right": null,
            "top": null,
            "visibility": null,
            "width": null
          }
        },
        "420b2f9c25ae45cca11811bf0188a3c6": {
          "model_module": "@jupyter-widgets/base",
          "model_name": "LayoutModel",
          "model_module_version": "1.2.0",
          "state": {
            "_model_module": "@jupyter-widgets/base",
            "_model_module_version": "1.2.0",
            "_model_name": "LayoutModel",
            "_view_count": null,
            "_view_module": "@jupyter-widgets/base",
            "_view_module_version": "1.2.0",
            "_view_name": "LayoutView",
            "align_content": null,
            "align_items": null,
            "align_self": null,
            "border": null,
            "bottom": null,
            "display": null,
            "flex": null,
            "flex_flow": null,
            "grid_area": null,
            "grid_auto_columns": null,
            "grid_auto_flow": null,
            "grid_auto_rows": null,
            "grid_column": null,
            "grid_gap": null,
            "grid_row": null,
            "grid_template_areas": null,
            "grid_template_columns": null,
            "grid_template_rows": null,
            "height": null,
            "justify_content": null,
            "justify_items": null,
            "left": null,
            "margin": null,
            "max_height": null,
            "max_width": null,
            "min_height": null,
            "min_width": null,
            "object_fit": null,
            "object_position": null,
            "order": null,
            "overflow": null,
            "overflow_x": null,
            "overflow_y": null,
            "padding": null,
            "right": null,
            "top": null,
            "visibility": null,
            "width": null
          }
        },
        "87a289f3dad642aab3ef1c64aada84b7": {
          "model_module": "@jupyter-widgets/controls",
          "model_name": "SliderStyleModel",
          "model_module_version": "1.5.0",
          "state": {
            "_model_module": "@jupyter-widgets/controls",
            "_model_module_version": "1.5.0",
            "_model_name": "SliderStyleModel",
            "_view_count": null,
            "_view_module": "@jupyter-widgets/base",
            "_view_module_version": "1.2.0",
            "_view_name": "StyleView",
            "description_width": "",
            "handle_color": null
          }
        },
        "43bf804f1d534e34acbde66ec9251b8f": {
          "model_module": "@jupyter-widgets/base",
          "model_name": "LayoutModel",
          "model_module_version": "1.2.0",
          "state": {
            "_model_module": "@jupyter-widgets/base",
            "_model_module_version": "1.2.0",
            "_model_name": "LayoutModel",
            "_view_count": null,
            "_view_module": "@jupyter-widgets/base",
            "_view_module_version": "1.2.0",
            "_view_name": "LayoutView",
            "align_content": null,
            "align_items": null,
            "align_self": null,
            "border": null,
            "bottom": null,
            "display": null,
            "flex": null,
            "flex_flow": null,
            "grid_area": null,
            "grid_auto_columns": null,
            "grid_auto_flow": null,
            "grid_auto_rows": null,
            "grid_column": null,
            "grid_gap": null,
            "grid_row": null,
            "grid_template_areas": null,
            "grid_template_columns": null,
            "grid_template_rows": null,
            "height": null,
            "justify_content": null,
            "justify_items": null,
            "left": null,
            "margin": null,
            "max_height": null,
            "max_width": null,
            "min_height": null,
            "min_width": null,
            "object_fit": null,
            "object_position": null,
            "order": null,
            "overflow": null,
            "overflow_x": null,
            "overflow_y": null,
            "padding": null,
            "right": null,
            "top": null,
            "visibility": null,
            "width": null
          }
        },
        "61d6074ce81446d1834507f0e67baec2": {
          "model_module": "@jupyter-widgets/controls",
          "model_name": "ButtonStyleModel",
          "model_module_version": "1.5.0",
          "state": {
            "_model_module": "@jupyter-widgets/controls",
            "_model_module_version": "1.5.0",
            "_model_name": "ButtonStyleModel",
            "_view_count": null,
            "_view_module": "@jupyter-widgets/base",
            "_view_module_version": "1.2.0",
            "_view_name": "StyleView",
            "button_color": null,
            "font_weight": ""
          }
        },
        "6fe11b6701f34d5abc5fa5f80252de26": {
          "model_module": "@jupyter-widgets/base",
          "model_name": "LayoutModel",
          "model_module_version": "1.2.0",
          "state": {
            "_model_module": "@jupyter-widgets/base",
            "_model_module_version": "1.2.0",
            "_model_name": "LayoutModel",
            "_view_count": null,
            "_view_module": "@jupyter-widgets/base",
            "_view_module_version": "1.2.0",
            "_view_name": "LayoutView",
            "align_content": null,
            "align_items": null,
            "align_self": null,
            "border": null,
            "bottom": null,
            "display": null,
            "flex": null,
            "flex_flow": null,
            "grid_area": null,
            "grid_auto_columns": null,
            "grid_auto_flow": null,
            "grid_auto_rows": null,
            "grid_column": null,
            "grid_gap": null,
            "grid_row": null,
            "grid_template_areas": null,
            "grid_template_columns": null,
            "grid_template_rows": null,
            "height": null,
            "justify_content": null,
            "justify_items": null,
            "left": null,
            "margin": null,
            "max_height": null,
            "max_width": null,
            "min_height": null,
            "min_width": null,
            "object_fit": null,
            "object_position": null,
            "order": null,
            "overflow": null,
            "overflow_x": null,
            "overflow_y": null,
            "padding": null,
            "right": null,
            "top": null,
            "visibility": null,
            "width": null
          }
        },
        "079235f9f9d848f1a4d2d2999638f327": {
          "model_module": "@jupyter-widgets/controls",
          "model_name": "VBoxModel",
          "model_module_version": "1.5.0",
          "state": {
            "_dom_classes": [
              "widget-interact"
            ],
            "_model_module": "@jupyter-widgets/controls",
            "_model_module_version": "1.5.0",
            "_model_name": "VBoxModel",
            "_view_count": null,
            "_view_module": "@jupyter-widgets/controls",
            "_view_module_version": "1.5.0",
            "_view_name": "VBoxView",
            "box_style": "",
            "children": [
              "IPY_MODEL_8db2c76f22f7428da5162e1d2651b9bd",
              "IPY_MODEL_841595c7f33b40eb89f5a6b499de9b18",
              "IPY_MODEL_c53bb58cf9eb48a78d6b658949607cb1"
            ],
            "layout": "IPY_MODEL_57eba97cae5b452bbd7c3a8f0015ef6b"
          }
        },
        "8db2c76f22f7428da5162e1d2651b9bd": {
          "model_module": "@jupyter-widgets/controls",
          "model_name": "IntSliderModel",
          "model_module_version": "1.5.0",
          "state": {
            "_dom_classes": [],
            "_model_module": "@jupyter-widgets/controls",
            "_model_module_version": "1.5.0",
            "_model_name": "IntSliderModel",
            "_view_count": null,
            "_view_module": "@jupyter-widgets/controls",
            "_view_module_version": "1.5.0",
            "_view_name": "IntSliderView",
            "continuous_update": true,
            "description": "order",
            "description_tooltip": null,
            "disabled": false,
            "layout": "IPY_MODEL_c645ae45d7eb46c699be960efe50ce6d",
            "max": 10,
            "min": 0,
            "orientation": "horizontal",
            "readout": true,
            "readout_format": "d",
            "step": 1,
            "style": "IPY_MODEL_41cf44613a1c4a86b0d3e4f77a4c409b",
            "value": 1
          }
        },
        "841595c7f33b40eb89f5a6b499de9b18": {
          "model_module": "@jupyter-widgets/controls",
          "model_name": "ButtonModel",
          "model_module_version": "1.5.0",
          "state": {
            "_dom_classes": [],
            "_model_module": "@jupyter-widgets/controls",
            "_model_module_version": "1.5.0",
            "_model_name": "ButtonModel",
            "_view_count": null,
            "_view_module": "@jupyter-widgets/controls",
            "_view_module_version": "1.5.0",
            "_view_name": "ButtonView",
            "button_style": "",
            "description": "Run Interact",
            "disabled": false,
            "icon": "",
            "layout": "IPY_MODEL_4afd3704a78f49dc9d0d843a79d4ff15",
            "style": "IPY_MODEL_83a1c1b74bf94bf1886f12f7136391db",
            "tooltip": ""
          }
        },
        "c53bb58cf9eb48a78d6b658949607cb1": {
          "model_module": "@jupyter-widgets/output",
          "model_name": "OutputModel",
          "model_module_version": "1.0.0",
          "state": {
            "_dom_classes": [],
            "_model_module": "@jupyter-widgets/output",
            "_model_module_version": "1.0.0",
            "_model_name": "OutputModel",
            "_view_count": null,
            "_view_module": "@jupyter-widgets/output",
            "_view_module_version": "1.0.0",
            "_view_name": "OutputView",
            "layout": "IPY_MODEL_332ee27c6c494c60a55c03a8cf6ff0a1",
            "msg_id": "",
            "outputs": [
              {
                "output_type": "stream",
                "name": "stdout",
                "text": [
                  "cross validation error: 0.1921989768743515\n"
                ]
              },
              {
                "output_type": "display_data",
                "data": {
                  "text/plain": "<Figure size 640x480 with 1 Axes>",
                  "image/png": "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\n"
                },
                "metadata": {}
              }
            ]
          }
        },
        "57eba97cae5b452bbd7c3a8f0015ef6b": {
          "model_module": "@jupyter-widgets/base",
          "model_name": "LayoutModel",
          "model_module_version": "1.2.0",
          "state": {
            "_model_module": "@jupyter-widgets/base",
            "_model_module_version": "1.2.0",
            "_model_name": "LayoutModel",
            "_view_count": null,
            "_view_module": "@jupyter-widgets/base",
            "_view_module_version": "1.2.0",
            "_view_name": "LayoutView",
            "align_content": null,
            "align_items": null,
            "align_self": null,
            "border": null,
            "bottom": null,
            "display": null,
            "flex": null,
            "flex_flow": null,
            "grid_area": null,
            "grid_auto_columns": null,
            "grid_auto_flow": null,
            "grid_auto_rows": null,
            "grid_column": null,
            "grid_gap": null,
            "grid_row": null,
            "grid_template_areas": null,
            "grid_template_columns": null,
            "grid_template_rows": null,
            "height": null,
            "justify_content": null,
            "justify_items": null,
            "left": null,
            "margin": null,
            "max_height": null,
            "max_width": null,
            "min_height": null,
            "min_width": null,
            "object_fit": null,
            "object_position": null,
            "order": null,
            "overflow": null,
            "overflow_x": null,
            "overflow_y": null,
            "padding": null,
            "right": null,
            "top": null,
            "visibility": null,
            "width": null
          }
        },
        "c645ae45d7eb46c699be960efe50ce6d": {
          "model_module": "@jupyter-widgets/base",
          "model_name": "LayoutModel",
          "model_module_version": "1.2.0",
          "state": {
            "_model_module": "@jupyter-widgets/base",
            "_model_module_version": "1.2.0",
            "_model_name": "LayoutModel",
            "_view_count": null,
            "_view_module": "@jupyter-widgets/base",
            "_view_module_version": "1.2.0",
            "_view_name": "LayoutView",
            "align_content": null,
            "align_items": null,
            "align_self": null,
            "border": null,
            "bottom": null,
            "display": null,
            "flex": null,
            "flex_flow": null,
            "grid_area": null,
            "grid_auto_columns": null,
            "grid_auto_flow": null,
            "grid_auto_rows": null,
            "grid_column": null,
            "grid_gap": null,
            "grid_row": null,
            "grid_template_areas": null,
            "grid_template_columns": null,
            "grid_template_rows": null,
            "height": null,
            "justify_content": null,
            "justify_items": null,
            "left": null,
            "margin": null,
            "max_height": null,
            "max_width": null,
            "min_height": null,
            "min_width": null,
            "object_fit": null,
            "object_position": null,
            "order": null,
            "overflow": null,
            "overflow_x": null,
            "overflow_y": null,
            "padding": null,
            "right": null,
            "top": null,
            "visibility": null,
            "width": null
          }
        },
        "41cf44613a1c4a86b0d3e4f77a4c409b": {
          "model_module": "@jupyter-widgets/controls",
          "model_name": "SliderStyleModel",
          "model_module_version": "1.5.0",
          "state": {
            "_model_module": "@jupyter-widgets/controls",
            "_model_module_version": "1.5.0",
            "_model_name": "SliderStyleModel",
            "_view_count": null,
            "_view_module": "@jupyter-widgets/base",
            "_view_module_version": "1.2.0",
            "_view_name": "StyleView",
            "description_width": "",
            "handle_color": null
          }
        },
        "4afd3704a78f49dc9d0d843a79d4ff15": {
          "model_module": "@jupyter-widgets/base",
          "model_name": "LayoutModel",
          "model_module_version": "1.2.0",
          "state": {
            "_model_module": "@jupyter-widgets/base",
            "_model_module_version": "1.2.0",
            "_model_name": "LayoutModel",
            "_view_count": null,
            "_view_module": "@jupyter-widgets/base",
            "_view_module_version": "1.2.0",
            "_view_name": "LayoutView",
            "align_content": null,
            "align_items": null,
            "align_self": null,
            "border": null,
            "bottom": null,
            "display": null,
            "flex": null,
            "flex_flow": null,
            "grid_area": null,
            "grid_auto_columns": null,
            "grid_auto_flow": null,
            "grid_auto_rows": null,
            "grid_column": null,
            "grid_gap": null,
            "grid_row": null,
            "grid_template_areas": null,
            "grid_template_columns": null,
            "grid_template_rows": null,
            "height": null,
            "justify_content": null,
            "justify_items": null,
            "left": null,
            "margin": null,
            "max_height": null,
            "max_width": null,
            "min_height": null,
            "min_width": null,
            "object_fit": null,
            "object_position": null,
            "order": null,
            "overflow": null,
            "overflow_x": null,
            "overflow_y": null,
            "padding": null,
            "right": null,
            "top": null,
            "visibility": null,
            "width": null
          }
        },
        "83a1c1b74bf94bf1886f12f7136391db": {
          "model_module": "@jupyter-widgets/controls",
          "model_name": "ButtonStyleModel",
          "model_module_version": "1.5.0",
          "state": {
            "_model_module": "@jupyter-widgets/controls",
            "_model_module_version": "1.5.0",
            "_model_name": "ButtonStyleModel",
            "_view_count": null,
            "_view_module": "@jupyter-widgets/base",
            "_view_module_version": "1.2.0",
            "_view_name": "StyleView",
            "button_color": null,
            "font_weight": ""
          }
        },
        "332ee27c6c494c60a55c03a8cf6ff0a1": {
          "model_module": "@jupyter-widgets/base",
          "model_name": "LayoutModel",
          "model_module_version": "1.2.0",
          "state": {
            "_model_module": "@jupyter-widgets/base",
            "_model_module_version": "1.2.0",
            "_model_name": "LayoutModel",
            "_view_count": null,
            "_view_module": "@jupyter-widgets/base",
            "_view_module_version": "1.2.0",
            "_view_name": "LayoutView",
            "align_content": null,
            "align_items": null,
            "align_self": null,
            "border": null,
            "bottom": null,
            "display": null,
            "flex": null,
            "flex_flow": null,
            "grid_area": null,
            "grid_auto_columns": null,
            "grid_auto_flow": null,
            "grid_auto_rows": null,
            "grid_column": null,
            "grid_gap": null,
            "grid_row": null,
            "grid_template_areas": null,
            "grid_template_columns": null,
            "grid_template_rows": null,
            "height": null,
            "justify_content": null,
            "justify_items": null,
            "left": null,
            "margin": null,
            "max_height": null,
            "max_width": null,
            "min_height": null,
            "min_width": null,
            "object_fit": null,
            "object_position": null,
            "order": null,
            "overflow": null,
            "overflow_x": null,
            "overflow_y": null,
            "padding": null,
            "right": null,
            "top": null,
            "visibility": null,
            "width": null
          }
        },
        "c72e4a9870e84e89b0790053c963511c": {
          "model_module": "@jupyter-widgets/controls",
          "model_name": "VBoxModel",
          "model_module_version": "1.5.0",
          "state": {
            "_dom_classes": [
              "widget-interact"
            ],
            "_model_module": "@jupyter-widgets/controls",
            "_model_module_version": "1.5.0",
            "_model_name": "VBoxModel",
            "_view_count": null,
            "_view_module": "@jupyter-widgets/controls",
            "_view_module_version": "1.5.0",
            "_view_name": "VBoxView",
            "box_style": "",
            "children": [
              "IPY_MODEL_968c40b761ca4aecaa73566499c64e8a",
              "IPY_MODEL_02af1a6e779e45259ceddbd7021bfa08",
              "IPY_MODEL_4745d66c2cb84e618bccbcefa8e22299",
              "IPY_MODEL_cd68287900d247e5b9310c8195258552"
            ],
            "layout": "IPY_MODEL_64a37ad875f643fd9adcecdf2c324391"
          }
        },
        "968c40b761ca4aecaa73566499c64e8a": {
          "model_module": "@jupyter-widgets/controls",
          "model_name": "IntSliderModel",
          "model_module_version": "1.5.0",
          "state": {
            "_dom_classes": [],
            "_model_module": "@jupyter-widgets/controls",
            "_model_module_version": "1.5.0",
            "_model_name": "IntSliderModel",
            "_view_count": null,
            "_view_module": "@jupyter-widgets/controls",
            "_view_module_version": "1.5.0",
            "_view_name": "IntSliderView",
            "continuous_update": true,
            "description": "order",
            "description_tooltip": null,
            "disabled": false,
            "layout": "IPY_MODEL_88b2fff1ebc14f998fade132266477fa",
            "max": 9,
            "min": 0,
            "orientation": "horizontal",
            "readout": true,
            "readout_format": "d",
            "step": 1,
            "style": "IPY_MODEL_1692608c865c43cba3c39edb901c0ed9",
            "value": 1
          }
        },
        "02af1a6e779e45259ceddbd7021bfa08": {
          "model_module": "@jupyter-widgets/controls",
          "model_name": "FloatSliderModel",
          "model_module_version": "1.5.0",
          "state": {
            "_dom_classes": [],
            "_model_module": "@jupyter-widgets/controls",
            "_model_module_version": "1.5.0",
            "_model_name": "FloatSliderModel",
            "_view_count": null,
            "_view_module": "@jupyter-widgets/controls",
            "_view_module_version": "1.5.0",
            "_view_name": "FloatSliderView",
            "continuous_update": true,
            "description": "reg",
            "description_tooltip": null,
            "disabled": false,
            "layout": "IPY_MODEL_edcc0fc1dd7c4d21afb81446fe6c3edc",
            "max": 2,
            "min": 0,
            "orientation": "horizontal",
            "readout": true,
            "readout_format": ".2f",
            "step": 0.1,
            "style": "IPY_MODEL_29a728156a2342709b8bcacaea2aa231",
            "value": 1.6
          }
        },
        "4745d66c2cb84e618bccbcefa8e22299": {
          "model_module": "@jupyter-widgets/controls",
          "model_name": "ButtonModel",
          "model_module_version": "1.5.0",
          "state": {
            "_dom_classes": [],
            "_model_module": "@jupyter-widgets/controls",
            "_model_module_version": "1.5.0",
            "_model_name": "ButtonModel",
            "_view_count": null,
            "_view_module": "@jupyter-widgets/controls",
            "_view_module_version": "1.5.0",
            "_view_name": "ButtonView",
            "button_style": "",
            "description": "Run Interact",
            "disabled": false,
            "icon": "",
            "layout": "IPY_MODEL_ff46cfa98de140e89477f08d9d3acc47",
            "style": "IPY_MODEL_0cf92ad763a24c189898d4e17f581b4e",
            "tooltip": ""
          }
        },
        "cd68287900d247e5b9310c8195258552": {
          "model_module": "@jupyter-widgets/output",
          "model_name": "OutputModel",
          "model_module_version": "1.0.0",
          "state": {
            "_dom_classes": [],
            "_model_module": "@jupyter-widgets/output",
            "_model_module_version": "1.0.0",
            "_model_name": "OutputModel",
            "_view_count": null,
            "_view_module": "@jupyter-widgets/output",
            "_view_module_version": "1.0.0",
            "_view_name": "OutputView",
            "layout": "IPY_MODEL_7d5999e04beb4fc5bcbad29ff715d41c",
            "msg_id": "",
            "outputs": [
              {
                "output_type": "stream",
                "name": "stdout",
                "text": [
                  "cross validation error: nan\n",
                  "W_est: tensor([0.1817, 0.3557])\n"
                ]
              },
              {
                "output_type": "display_data",
                "data": {
                  "text/plain": "<Figure size 640x480 with 1 Axes>",
                  "image/png": "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\n"
                },
                "metadata": {}
              }
            ]
          }
        },
        "64a37ad875f643fd9adcecdf2c324391": {
          "model_module": "@jupyter-widgets/base",
          "model_name": "LayoutModel",
          "model_module_version": "1.2.0",
          "state": {
            "_model_module": "@jupyter-widgets/base",
            "_model_module_version": "1.2.0",
            "_model_name": "LayoutModel",
            "_view_count": null,
            "_view_module": "@jupyter-widgets/base",
            "_view_module_version": "1.2.0",
            "_view_name": "LayoutView",
            "align_content": null,
            "align_items": null,
            "align_self": null,
            "border": null,
            "bottom": null,
            "display": null,
            "flex": null,
            "flex_flow": null,
            "grid_area": null,
            "grid_auto_columns": null,
            "grid_auto_flow": null,
            "grid_auto_rows": null,
            "grid_column": null,
            "grid_gap": null,
            "grid_row": null,
            "grid_template_areas": null,
            "grid_template_columns": null,
            "grid_template_rows": null,
            "height": null,
            "justify_content": null,
            "justify_items": null,
            "left": null,
            "margin": null,
            "max_height": null,
            "max_width": null,
            "min_height": null,
            "min_width": null,
            "object_fit": null,
            "object_position": null,
            "order": null,
            "overflow": null,
            "overflow_x": null,
            "overflow_y": null,
            "padding": null,
            "right": null,
            "top": null,
            "visibility": null,
            "width": null
          }
        },
        "88b2fff1ebc14f998fade132266477fa": {
          "model_module": "@jupyter-widgets/base",
          "model_name": "LayoutModel",
          "model_module_version": "1.2.0",
          "state": {
            "_model_module": "@jupyter-widgets/base",
            "_model_module_version": "1.2.0",
            "_model_name": "LayoutModel",
            "_view_count": null,
            "_view_module": "@jupyter-widgets/base",
            "_view_module_version": "1.2.0",
            "_view_name": "LayoutView",
            "align_content": null,
            "align_items": null,
            "align_self": null,
            "border": null,
            "bottom": null,
            "display": null,
            "flex": null,
            "flex_flow": null,
            "grid_area": null,
            "grid_auto_columns": null,
            "grid_auto_flow": null,
            "grid_auto_rows": null,
            "grid_column": null,
            "grid_gap": null,
            "grid_row": null,
            "grid_template_areas": null,
            "grid_template_columns": null,
            "grid_template_rows": null,
            "height": null,
            "justify_content": null,
            "justify_items": null,
            "left": null,
            "margin": null,
            "max_height": null,
            "max_width": null,
            "min_height": null,
            "min_width": null,
            "object_fit": null,
            "object_position": null,
            "order": null,
            "overflow": null,
            "overflow_x": null,
            "overflow_y": null,
            "padding": null,
            "right": null,
            "top": null,
            "visibility": null,
            "width": null
          }
        },
        "1692608c865c43cba3c39edb901c0ed9": {
          "model_module": "@jupyter-widgets/controls",
          "model_name": "SliderStyleModel",
          "model_module_version": "1.5.0",
          "state": {
            "_model_module": "@jupyter-widgets/controls",
            "_model_module_version": "1.5.0",
            "_model_name": "SliderStyleModel",
            "_view_count": null,
            "_view_module": "@jupyter-widgets/base",
            "_view_module_version": "1.2.0",
            "_view_name": "StyleView",
            "description_width": "",
            "handle_color": null
          }
        },
        "edcc0fc1dd7c4d21afb81446fe6c3edc": {
          "model_module": "@jupyter-widgets/base",
          "model_name": "LayoutModel",
          "model_module_version": "1.2.0",
          "state": {
            "_model_module": "@jupyter-widgets/base",
            "_model_module_version": "1.2.0",
            "_model_name": "LayoutModel",
            "_view_count": null,
            "_view_module": "@jupyter-widgets/base",
            "_view_module_version": "1.2.0",
            "_view_name": "LayoutView",
            "align_content": null,
            "align_items": null,
            "align_self": null,
            "border": null,
            "bottom": null,
            "display": null,
            "flex": null,
            "flex_flow": null,
            "grid_area": null,
            "grid_auto_columns": null,
            "grid_auto_flow": null,
            "grid_auto_rows": null,
            "grid_column": null,
            "grid_gap": null,
            "grid_row": null,
            "grid_template_areas": null,
            "grid_template_columns": null,
            "grid_template_rows": null,
            "height": null,
            "justify_content": null,
            "justify_items": null,
            "left": null,
            "margin": null,
            "max_height": null,
            "max_width": null,
            "min_height": null,
            "min_width": null,
            "object_fit": null,
            "object_position": null,
            "order": null,
            "overflow": null,
            "overflow_x": null,
            "overflow_y": null,
            "padding": null,
            "right": null,
            "top": null,
            "visibility": null,
            "width": null
          }
        },
        "29a728156a2342709b8bcacaea2aa231": {
          "model_module": "@jupyter-widgets/controls",
          "model_name": "SliderStyleModel",
          "model_module_version": "1.5.0",
          "state": {
            "_model_module": "@jupyter-widgets/controls",
            "_model_module_version": "1.5.0",
            "_model_name": "SliderStyleModel",
            "_view_count": null,
            "_view_module": "@jupyter-widgets/base",
            "_view_module_version": "1.2.0",
            "_view_name": "StyleView",
            "description_width": "",
            "handle_color": null
          }
        },
        "ff46cfa98de140e89477f08d9d3acc47": {
          "model_module": "@jupyter-widgets/base",
          "model_name": "LayoutModel",
          "model_module_version": "1.2.0",
          "state": {
            "_model_module": "@jupyter-widgets/base",
            "_model_module_version": "1.2.0",
            "_model_name": "LayoutModel",
            "_view_count": null,
            "_view_module": "@jupyter-widgets/base",
            "_view_module_version": "1.2.0",
            "_view_name": "LayoutView",
            "align_content": null,
            "align_items": null,
            "align_self": null,
            "border": null,
            "bottom": null,
            "display": null,
            "flex": null,
            "flex_flow": null,
            "grid_area": null,
            "grid_auto_columns": null,
            "grid_auto_flow": null,
            "grid_auto_rows": null,
            "grid_column": null,
            "grid_gap": null,
            "grid_row": null,
            "grid_template_areas": null,
            "grid_template_columns": null,
            "grid_template_rows": null,
            "height": null,
            "justify_content": null,
            "justify_items": null,
            "left": null,
            "margin": null,
            "max_height": null,
            "max_width": null,
            "min_height": null,
            "min_width": null,
            "object_fit": null,
            "object_position": null,
            "order": null,
            "overflow": null,
            "overflow_x": null,
            "overflow_y": null,
            "padding": null,
            "right": null,
            "top": null,
            "visibility": null,
            "width": null
          }
        },
        "0cf92ad763a24c189898d4e17f581b4e": {
          "model_module": "@jupyter-widgets/controls",
          "model_name": "ButtonStyleModel",
          "model_module_version": "1.5.0",
          "state": {
            "_model_module": "@jupyter-widgets/controls",
            "_model_module_version": "1.5.0",
            "_model_name": "ButtonStyleModel",
            "_view_count": null,
            "_view_module": "@jupyter-widgets/base",
            "_view_module_version": "1.2.0",
            "_view_name": "StyleView",
            "button_color": null,
            "font_weight": ""
          }
        },
        "7d5999e04beb4fc5bcbad29ff715d41c": {
          "model_module": "@jupyter-widgets/base",
          "model_name": "LayoutModel",
          "model_module_version": "1.2.0",
          "state": {
            "_model_module": "@jupyter-widgets/base",
            "_model_module_version": "1.2.0",
            "_model_name": "LayoutModel",
            "_view_count": null,
            "_view_module": "@jupyter-widgets/base",
            "_view_module_version": "1.2.0",
            "_view_name": "LayoutView",
            "align_content": null,
            "align_items": null,
            "align_self": null,
            "border": null,
            "bottom": null,
            "display": null,
            "flex": null,
            "flex_flow": null,
            "grid_area": null,
            "grid_auto_columns": null,
            "grid_auto_flow": null,
            "grid_auto_rows": null,
            "grid_column": null,
            "grid_gap": null,
            "grid_row": null,
            "grid_template_areas": null,
            "grid_template_columns": null,
            "grid_template_rows": null,
            "height": null,
            "justify_content": null,
            "justify_items": null,
            "left": null,
            "margin": null,
            "max_height": null,
            "max_width": null,
            "min_height": null,
            "min_width": null,
            "object_fit": null,
            "object_position": null,
            "order": null,
            "overflow": null,
            "overflow_x": null,
            "overflow_y": null,
            "padding": null,
            "right": null,
            "top": null,
            "visibility": null,
            "width": null
          }
        }
      }
    }
  },
  "nbformat": 4,
  "nbformat_minor": 0
}